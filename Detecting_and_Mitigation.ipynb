{
  "cells": [
    {
      "cell_type": "markdown",
      "metadata": {
        "id": "view-in-github",
        "colab_type": "text"
      },
      "source": [
        "<a href=\"https://colab.research.google.com/github/idiftech2010/Detection-and-Mitigation/blob/main/Detecting_and_Mitigation.ipynb\" target=\"_parent\"><img src=\"https://colab.research.google.com/assets/colab-badge.svg\" alt=\"Open In Colab\"/></a>"
      ]
    },
    {
      "cell_type": "code",
      "execution_count": null,
      "metadata": {
        "colab": {
          "base_uri": "https://localhost:8080/"
        },
        "id": "2CN-5cO__ch3",
        "outputId": "01c2f2ca-f8e6-4d92-9816-91e77da6fe5e"
      },
      "outputs": [
        {
          "name": "stdout",
          "output_type": "stream",
          "text": [
            "    Destination Port   Flow Duration   Total Fwd Packets  \\\n",
            "0              54865               3                   2   \n",
            "1              55054             109                   1   \n",
            "2              55055              52                   1   \n",
            "3              46236              34                   1   \n",
            "4              54863               3                   2   \n",
            "\n",
            "    Total Backward Packets  Total Length of Fwd Packets  \\\n",
            "0                        0                           12   \n",
            "1                        1                            6   \n",
            "2                        1                            6   \n",
            "3                        1                            6   \n",
            "4                        0                           12   \n",
            "\n",
            "    Total Length of Bwd Packets   Fwd Packet Length Max  \\\n",
            "0                             0                       6   \n",
            "1                             6                       6   \n",
            "2                             6                       6   \n",
            "3                             6                       6   \n",
            "4                             0                       6   \n",
            "\n",
            "    Fwd Packet Length Min   Fwd Packet Length Mean   Fwd Packet Length Std  \\\n",
            "0                       6                      6.0                     0.0   \n",
            "1                       6                      6.0                     0.0   \n",
            "2                       6                      6.0                     0.0   \n",
            "3                       6                      6.0                     0.0   \n",
            "4                       6                      6.0                     0.0   \n",
            "\n",
            "   ...   min_seg_size_forward  Active Mean   Active Std   Active Max  \\\n",
            "0  ...                     20          0.0          0.0            0   \n",
            "1  ...                     20          0.0          0.0            0   \n",
            "2  ...                     20          0.0          0.0            0   \n",
            "3  ...                     20          0.0          0.0            0   \n",
            "4  ...                     20          0.0          0.0            0   \n",
            "\n",
            "    Active Min  Idle Mean   Idle Std   Idle Max   Idle Min   Label  \n",
            "0            0        0.0        0.0          0          0  BENIGN  \n",
            "1            0        0.0        0.0          0          0  BENIGN  \n",
            "2            0        0.0        0.0          0          0  BENIGN  \n",
            "3            0        0.0        0.0          0          0  BENIGN  \n",
            "4            0        0.0        0.0          0          0  BENIGN  \n",
            "\n",
            "[5 rows x 79 columns]\n"
          ]
        }
      ],
      "source": [
        "import pandas as pd\n",
        "\n",
        "# Load the dataset\n",
        "df = pd.read_csv('CICIDS2017.csv')\n",
        "\n",
        "# Display first five rows\n",
        "print(df.head())\n"
      ]
    },
    {
      "cell_type": "code",
      "execution_count": null,
      "metadata": {
        "id": "oPFfR0ndTMRg"
      },
      "outputs": [],
      "source": [
        "df = df.dropna()  # Drop rows with missing values\n"
      ]
    },
    {
      "cell_type": "code",
      "execution_count": null,
      "metadata": {
        "id": "UkKboVXdealm"
      },
      "outputs": [],
      "source": [
        "df.columns = df.columns.str.strip()\n"
      ]
    },
    {
      "cell_type": "code",
      "execution_count": null,
      "metadata": {
        "colab": {
          "base_uri": "https://localhost:8080/"
        },
        "id": "x4weyT7AhEZB",
        "outputId": "95ee8dc1-8e55-4fec-a8dd-72d184872840"
      },
      "outputs": [
        {
          "name": "stdout",
          "output_type": "stream",
          "text": [
            "Label\n",
            "1    99195\n",
            "0    53697\n",
            "2        1\n",
            "Name: count, dtype: int64\n"
          ]
        }
      ],
      "source": [
        "print(y.value_counts())  # Check if any class has too few samples\n"
      ]
    },
    {
      "cell_type": "code",
      "execution_count": null,
      "metadata": {
        "id": "FT7FEDvzhM62"
      },
      "outputs": [],
      "source": [
        "from imblearn.over_sampling import RandomOverSampler\n",
        "ros = RandomOverSampler(random_state=42)\n",
        "X_resampled, y_resampled = ros.fit_resample(X, y)\n"
      ]
    },
    {
      "cell_type": "code",
      "execution_count": null,
      "metadata": {
        "id": "xd43zuaMhQF-"
      },
      "outputs": [],
      "source": [
        "from imblearn.over_sampling import RandomOverSampler\n",
        "\n",
        "ros = RandomOverSampler(random_state=42)\n",
        "X_resampled, y_resampled = ros.fit_resample(X, y)\n"
      ]
    },
    {
      "cell_type": "code",
      "execution_count": null,
      "metadata": {
        "id": "GVG0ElHRhm6_"
      },
      "outputs": [],
      "source": [
        "df_minority = df[df['Label'] == df['Label'].value_counts().idxmin()]\n",
        "df = pd.concat([df, df_minority], ignore_index=True)\n"
      ]
    },
    {
      "cell_type": "code",
      "execution_count": null,
      "metadata": {
        "colab": {
          "base_uri": "https://localhost:8080/"
        },
        "id": "3Z8krWr4h79O",
        "outputId": "fecfb9cf-d0e7-4d99-c1bc-fe0331823ab1"
      },
      "outputs": [
        {
          "name": "stdout",
          "output_type": "stream",
          "text": [
            "Label\n",
            "0    99195\n",
            "1    99195\n",
            "2    99195\n",
            "Name: count, dtype: int64\n"
          ]
        }
      ],
      "source": [
        "print(y_resampled.value_counts())  # Ensure both classes are balanced\n"
      ]
    },
    {
      "cell_type": "code",
      "execution_count": null,
      "metadata": {
        "colab": {
          "base_uri": "https://localhost:8080/"
        },
        "id": "0FWyQ33ph-j1",
        "outputId": "d3df0e1c-5f6c-4f91-ea99-f7e2dd382251"
      },
      "outputs": [
        {
          "name": "stdout",
          "output_type": "stream",
          "text": [
            "(297585, 3) (297585,)\n"
          ]
        }
      ],
      "source": [
        "print(X_resampled.shape, y_resampled.shape)\n"
      ]
    },
    {
      "cell_type": "code",
      "execution_count": null,
      "metadata": {
        "colab": {
          "base_uri": "https://localhost:8080/"
        },
        "id": "sn67HxNGiFzX",
        "outputId": "b980efec-0b0d-4a4c-8ca1-62b67b27bdaf"
      },
      "outputs": [
        {
          "name": "stdout",
          "output_type": "stream",
          "text": [
            "Dataset Columns: ['Destination Port', 'Flow Duration', 'Total Fwd Packets', 'Total Backward Packets', 'Total Length of Fwd Packets', 'Total Length of Bwd Packets', 'Fwd Packet Length Max', 'Fwd Packet Length Min', 'Fwd Packet Length Mean', 'Fwd Packet Length Std', 'Bwd Packet Length Max', 'Bwd Packet Length Min', 'Bwd Packet Length Mean', 'Bwd Packet Length Std', 'Flow Bytes/s', 'Flow Packets/s', 'Flow IAT Mean', 'Flow IAT Std', 'Flow IAT Max', 'Flow IAT Min', 'Fwd IAT Total', 'Fwd IAT Mean', 'Fwd IAT Std', 'Fwd IAT Max', 'Fwd IAT Min', 'Bwd IAT Total', 'Bwd IAT Mean', 'Bwd IAT Std', 'Bwd IAT Max', 'Bwd IAT Min', 'Fwd PSH Flags', 'Bwd PSH Flags', 'Fwd URG Flags', 'Bwd URG Flags', 'Fwd Header Length', 'Bwd Header Length', 'Fwd Packets/s', 'Bwd Packets/s', 'Min Packet Length', 'Max Packet Length', 'Packet Length Mean', 'Packet Length Std', 'Packet Length Variance', 'FIN Flag Count', 'SYN Flag Count', 'RST Flag Count', 'PSH Flag Count', 'ACK Flag Count', 'URG Flag Count', 'CWE Flag Count', 'ECE Flag Count', 'Down/Up Ratio', 'Average Packet Size', 'Avg Fwd Segment Size', 'Avg Bwd Segment Size', 'Fwd Header Length.1', 'Fwd Avg Bytes/Bulk', 'Fwd Avg Packets/Bulk', 'Fwd Avg Bulk Rate', 'Bwd Avg Bytes/Bulk', 'Bwd Avg Packets/Bulk', 'Bwd Avg Bulk Rate', 'Subflow Fwd Packets', 'Subflow Fwd Bytes', 'Subflow Bwd Packets', 'Subflow Bwd Bytes', 'Init_Win_bytes_forward', 'Init_Win_bytes_backward', 'act_data_pkt_fwd', 'min_seg_size_forward', 'Active Mean', 'Active Std', 'Active Max', 'Active Min', 'Idle Mean', 'Idle Std', 'Idle Max', 'Idle Min', 'Label']\n",
            "Using device: cpu\n",
            "Epoch 1/10, Loss: 0.6932\n",
            "Epoch 2/10, Loss: 0.6921\n",
            "Epoch 3/10, Loss: 0.6912\n",
            "Epoch 4/10, Loss: 0.6902\n",
            "Epoch 5/10, Loss: 0.6894\n",
            "Epoch 6/10, Loss: 0.6887\n",
            "Epoch 7/10, Loss: 0.6880\n",
            "Epoch 8/10, Loss: 0.6874\n",
            "Epoch 9/10, Loss: 0.6869\n",
            "Epoch 10/10, Loss: 0.6863\n",
            "Test Accuracy: 52.57%\n"
          ]
        }
      ],
      "source": [
        "import pandas as pd\n",
        "import numpy as np\n",
        "from sklearn.preprocessing import StandardScaler, LabelEncoder\n",
        "from sklearn.model_selection import train_test_split\n",
        "from imblearn.over_sampling import SMOTE  # Handle class imbalance\n",
        "import torch\n",
        "import torch.nn as nn\n",
        "import torch.optim as optim\n",
        "\n",
        "# Load the dataset\n",
        "df = pd.read_csv('CICIDS2017.csv')\n",
        "\n",
        "# Strip spaces from column names\n",
        "df.columns = df.columns.str.strip()\n",
        "\n",
        "# Verify available columns\n",
        "print(\"Dataset Columns:\", df.columns.tolist())\n",
        "\n",
        "# Selecting relevant features based on dataset columns\n",
        "available_columns = set(df.columns)\n",
        "numerical_features = [col for col in ['Flow Duration', 'Total Fwd Packets', 'Total Backward Packets'] if col in available_columns]\n",
        "categorical_features = [col for col in ['Protocol Name', 'Label'] if col in available_columns]\n",
        "\n",
        "if not numerical_features:\n",
        "    raise ValueError(\"No matching numerical features found in dataset.\")\n",
        "if not categorical_features:\n",
        "    raise ValueError(\"No matching categorical features found in dataset.\")\n",
        "\n",
        "# Encoding categorical features\n",
        "for col in categorical_features:\n",
        "    df[col] = LabelEncoder().fit_transform(df[col])\n",
        "\n",
        "# Normalizing numerical features\n",
        "scaler = StandardScaler()\n",
        "df[numerical_features] = scaler.fit_transform(df[numerical_features])\n",
        "\n",
        "# Ensure 'Label' column is correctly identified\n",
        "y_column = 'Label' if 'Label' in df.columns else df.columns[-1]\n",
        "X = df[numerical_features + [col for col in categorical_features if col != 'Label']]\n",
        "y = df[y_column]\n",
        "\n",
        "# Handle class imbalance using SMOTE\n",
        "smote = SMOTE(sampling_strategy='auto', k_neighbors=1, random_state=42)\n",
        "X_resampled, y_resampled = smote.fit_resample(X, y)\n",
        "\n",
        "# Splitting dataset into training and testing\n",
        "X_train, X_test, y_train, y_test = train_test_split(X_resampled, y_resampled, test_size=0.2, random_state=42)\n",
        "\n",
        "# Check if CUDA (GPU) is available\n",
        "device = torch.device(\"cuda\" if torch.cuda.is_available() else \"cpu\")\n",
        "print(f\"Using device: {device}\")\n",
        "\n",
        "# Convert to PyTorch tensors\n",
        "X_train_tensor = torch.tensor(X_train.values, dtype=torch.float32).to(device)\n",
        "X_test_tensor = torch.tensor(X_test.values, dtype=torch.float32).to(device)\n",
        "y_train_tensor = torch.tensor(y_train.values, dtype=torch.float32).unsqueeze(1).to(device)\n",
        "y_test_tensor = torch.tensor(y_test.values, dtype=torch.float32).unsqueeze(1).to(device)\n",
        "\n",
        "# Define a simple neural network model\n",
        "class IntrusionDetectionModel(nn.Module):\n",
        "    def __init__(self, input_size):\n",
        "        super(IntrusionDetectionModel, self).__init__()\n",
        "        self.fc1 = nn.Linear(input_size, 64)\n",
        "        self.relu = nn.ReLU()\n",
        "        self.fc2 = nn.Linear(64, 32)\n",
        "        self.fc3 = nn.Linear(32, 1)\n",
        "        self.sigmoid = nn.Sigmoid()\n",
        "\n",
        "    def forward(self, x):\n",
        "        x = self.relu(self.fc1(x))\n",
        "        x = self.relu(self.fc2(x))\n",
        "        x = self.sigmoid(self.fc3(x))\n",
        "        return x\n",
        "\n",
        "# Initialize model, loss function, and optimizer\n",
        "model = IntrusionDetectionModel(X_train.shape[1]).to(device)\n",
        "criterion = nn.BCELoss()\n",
        "optimizer = optim.Adam(model.parameters(), lr=0.001)\n",
        "\n",
        "# Training loop\n",
        "epochs = 10\n",
        "for epoch in range(epochs):\n",
        "    model.train()\n",
        "    optimizer.zero_grad()\n",
        "    outputs = model(X_train_tensor)\n",
        "    loss = criterion(outputs, y_train_tensor)\n",
        "    loss.backward()\n",
        "    optimizer.step()\n",
        "    print(f\"Epoch {epoch+1}/{epochs}, Loss: {loss.item():.4f}\")\n",
        "\n",
        "# Evaluate model\n",
        "model.eval()\n",
        "with torch.no_grad():\n",
        "    y_pred = model(X_test_tensor)\n",
        "    y_pred = (y_pred > 0.5).float()\n",
        "    accuracy = (y_pred.eq(y_test_tensor).sum().float() / y_test_tensor.shape[0]).item()\n",
        "    print(f\"Test Accuracy: {accuracy * 100:.2f}%\")\n"
      ]
    },
    {
      "cell_type": "code",
      "execution_count": null,
      "metadata": {
        "colab": {
          "base_uri": "https://localhost:8080/",
          "height": 1000
        },
        "id": "yJIQcRB1jA4_",
        "outputId": "c4639b32-8cb4-4dc0-a2f2-e4f2e1daaf27"
      },
      "outputs": [
        {
          "name": "stdout",
          "output_type": "stream",
          "text": [
            "Dataset Columns: [' Destination Port', ' Flow Duration', ' Total Fwd Packets', ' Total Backward Packets', 'Total Length of Fwd Packets', ' Total Length of Bwd Packets', ' Fwd Packet Length Max', ' Fwd Packet Length Min', ' Fwd Packet Length Mean', ' Fwd Packet Length Std', 'Bwd Packet Length Max', ' Bwd Packet Length Min', ' Bwd Packet Length Mean', ' Bwd Packet Length Std', 'Flow Bytes/s', ' Flow Packets/s', ' Flow IAT Mean', ' Flow IAT Std', ' Flow IAT Max', ' Flow IAT Min', 'Fwd IAT Total', ' Fwd IAT Mean', ' Fwd IAT Std', ' Fwd IAT Max', ' Fwd IAT Min', 'Bwd IAT Total', ' Bwd IAT Mean', ' Bwd IAT Std', ' Bwd IAT Max', ' Bwd IAT Min', 'Fwd PSH Flags', ' Bwd PSH Flags', ' Fwd URG Flags', ' Bwd URG Flags', ' Fwd Header Length', ' Bwd Header Length', 'Fwd Packets/s', ' Bwd Packets/s', ' Min Packet Length', ' Max Packet Length', ' Packet Length Mean', ' Packet Length Std', ' Packet Length Variance', 'FIN Flag Count', ' SYN Flag Count', ' RST Flag Count', ' PSH Flag Count', ' ACK Flag Count', ' URG Flag Count', ' CWE Flag Count', ' ECE Flag Count', ' Down/Up Ratio', ' Average Packet Size', ' Avg Fwd Segment Size', ' Avg Bwd Segment Size', ' Fwd Header Length.1', 'Fwd Avg Bytes/Bulk', ' Fwd Avg Packets/Bulk', ' Fwd Avg Bulk Rate', ' Bwd Avg Bytes/Bulk', ' Bwd Avg Packets/Bulk', 'Bwd Avg Bulk Rate', 'Subflow Fwd Packets', ' Subflow Fwd Bytes', ' Subflow Bwd Packets', ' Subflow Bwd Bytes', 'Init_Win_bytes_forward', ' Init_Win_bytes_backward', ' act_data_pkt_fwd', ' min_seg_size_forward', 'Active Mean', ' Active Std', ' Active Max', ' Active Min', 'Idle Mean', ' Idle Std', ' Idle Max', ' Idle Min', ' Label']\n"
          ]
        },
        {
          "name": "stderr",
          "output_type": "stream",
          "text": [
            "<ipython-input-26-e785be936ad3>:33: SettingWithCopyWarning: \n",
            "A value is trying to be set on a copy of a slice from a DataFrame\n",
            "\n",
            "See the caveats in the documentation: https://pandas.pydata.org/pandas-docs/stable/user_guide/indexing.html#returning-a-view-versus-a-copy\n",
            "  X.replace([np.inf, -np.inf], np.nan, inplace=True)\n",
            "<ipython-input-26-e785be936ad3>:34: SettingWithCopyWarning: \n",
            "A value is trying to be set on a copy of a slice from a DataFrame\n",
            "\n",
            "See the caveats in the documentation: https://pandas.pydata.org/pandas-docs/stable/user_guide/indexing.html#returning-a-view-versus-a-copy\n",
            "  X.fillna(X.median(), inplace=True)\n"
          ]
        },
        {
          "name": "stdout",
          "output_type": "stream",
          "text": [
            "Epoch 1/50, Loss: 0.7019\n",
            "Epoch 2/50, Loss: 0.6983\n",
            "Epoch 3/50, Loss: 0.6947\n",
            "Epoch 4/50, Loss: 0.6913\n",
            "Epoch 5/50, Loss: 0.6878\n",
            "Epoch 6/50, Loss: 0.6844\n",
            "Epoch 7/50, Loss: 0.6811\n",
            "Epoch 8/50, Loss: 0.6778\n",
            "Epoch 9/50, Loss: 0.6746\n",
            "Epoch 10/50, Loss: 0.6714\n",
            "Epoch 11/50, Loss: 0.6683\n",
            "Epoch 12/50, Loss: 0.6652\n",
            "Epoch 13/50, Loss: 0.6621\n",
            "Epoch 14/50, Loss: 0.6590\n",
            "Epoch 15/50, Loss: 0.6560\n",
            "Epoch 16/50, Loss: 0.6529\n",
            "Epoch 17/50, Loss: 0.6498\n",
            "Epoch 18/50, Loss: 0.6467\n",
            "Epoch 19/50, Loss: 0.6436\n",
            "Epoch 20/50, Loss: 0.6405\n",
            "Epoch 21/50, Loss: 0.6374\n",
            "Epoch 22/50, Loss: 0.6342\n",
            "Epoch 23/50, Loss: 0.6310\n",
            "Epoch 24/50, Loss: 0.6279\n",
            "Epoch 25/50, Loss: 0.6247\n",
            "Epoch 26/50, Loss: 0.6215\n",
            "Epoch 27/50, Loss: 0.6183\n",
            "Epoch 28/50, Loss: 0.6150\n",
            "Epoch 29/50, Loss: 0.6117\n",
            "Epoch 30/50, Loss: 0.6084\n",
            "Epoch 31/50, Loss: 0.6050\n",
            "Epoch 32/50, Loss: 0.6016\n",
            "Epoch 33/50, Loss: 0.5982\n",
            "Epoch 34/50, Loss: 0.5947\n",
            "Epoch 35/50, Loss: 0.5912\n",
            "Epoch 36/50, Loss: 0.5876\n",
            "Epoch 37/50, Loss: 0.5839\n",
            "Epoch 38/50, Loss: 0.5803\n",
            "Epoch 39/50, Loss: 0.5766\n",
            "Epoch 40/50, Loss: 0.5728\n",
            "Epoch 41/50, Loss: 0.5690\n",
            "Epoch 42/50, Loss: 0.5652\n",
            "Epoch 43/50, Loss: 0.5614\n",
            "Epoch 44/50, Loss: 0.5576\n",
            "Epoch 45/50, Loss: 0.5538\n",
            "Epoch 46/50, Loss: 0.5499\n",
            "Epoch 47/50, Loss: 0.5460\n",
            "Epoch 48/50, Loss: 0.5421\n",
            "Epoch 49/50, Loss: 0.5382\n",
            "Epoch 50/50, Loss: 0.5343\n"
          ]
        },
        {
          "data": {
            "image/png": "[encoded data removed]",
            "text/plain": [
              "<Figure size 1000x500 with 1 Axes>"
            ]
          },
          "metadata": {},
          "output_type": "display_data"
        },
        {
          "name": "stdout",
          "output_type": "stream",
          "text": [
            "\n",
            "Classification Report:\n",
            "              precision    recall  f1-score   support\n",
            "\n",
            "           0       0.73      0.99      0.84     25594\n",
            "           1       0.99      0.64      0.77     25617\n",
            "\n",
            "    accuracy                           0.81     51211\n",
            "   macro avg       0.86      0.81      0.81     51211\n",
            "weighted avg       0.86      0.81      0.81     51211\n",
            "\n"
          ]
        },
        {
          "data": {
            "image/png": "[encoded data removed]",
            "text/plain": [
              "<Figure size 600x500 with 2 Axes>"
            ]
          },
          "metadata": {},
          "output_type": "display_data"
        },
        {
          "name": "stdout",
          "output_type": "stream",
          "text": [
            "Model saved successfully!\n"
          ]
        }
      ],
      "source": [
        "import pandas as pd\n",
        "import numpy as np\n",
        "import torch\n",
        "import torch.nn as nn\n",
        "import torch.optim as optim\n",
        "import matplotlib.pyplot as plt\n",
        "import seaborn as sns\n",
        "from imblearn.over_sampling import SMOTE\n",
        "from sklearn.model_selection import train_test_split\n",
        "from sklearn.preprocessing import StandardScaler, LabelEncoder\n",
        "from sklearn.metrics import accuracy_score, classification_report, confusion_matrix\n",
        "\n",
        "# Load dataset\n",
        "df = pd.read_csv('CICIDS2017.csv')\n",
        "print(\"Dataset Columns:\", df.columns.tolist())\n",
        "\n",
        "# Feature selection\n",
        "selected_features = [\n",
        "    'Flow Duration', 'Total Fwd Packets', 'Total Backward Packets',\n",
        "    'Flow Bytes/s', 'Flow Packets/s', 'Fwd Packet Length Mean', 'Bwd Packet Length Mean',\n",
        "    'Min Packet Length', 'Max Packet Length'\n",
        "]\n",
        "\n",
        "df.columns = df.columns.str.strip()\n",
        "X = df[selected_features]\n",
        "y = df['Label']\n",
        "\n",
        "# Encode labels\n",
        "label_encoder = LabelEncoder()\n",
        "y = label_encoder.fit_transform(y)\n",
        "\n",
        "# Handle missing/infinite values\n",
        "X.replace([np.inf, -np.inf], np.nan, inplace=True)\n",
        "X.fillna(X.median(), inplace=True)\n",
        "\n",
        "# Normalize data\n",
        "scaler = StandardScaler()\n",
        "X = scaler.fit_transform(X)\n",
        "\n",
        "# Handle class imbalance\n",
        "smote = SMOTE(random_state=42)\n",
        "X_resampled, y_resampled = smote.fit_resample(X, y)\n",
        "\n",
        "# Split data\n",
        "X_train, X_test, y_train, y_test = train_test_split(X_resampled, y_resampled, test_size=0.2, random_state=42)\n",
        "\n",
        "# Convert to PyTorch tensors\n",
        "X_train_tensor = torch.tensor(X_train, dtype=torch.float32)\n",
        "X_test_tensor = torch.tensor(X_test, dtype=torch.float32)\n",
        "y_train_tensor = torch.tensor(y_train, dtype=torch.long)\n",
        "y_test_tensor = torch.tensor(y_test, dtype=torch.long)\n",
        "\n",
        "# Define neural network\n",
        "class IntrusionDetectionNN(nn.Module):\n",
        "    def __init__(self):\n",
        "        super(IntrusionDetectionNN, self).__init__()\n",
        "        self.fc1 = nn.Linear(len(selected_features), 64)\n",
        "        self.fc2 = nn.Linear(64, 32)\n",
        "        self.fc3 = nn.Linear(32, 2)  # Binary classification\n",
        "        self.relu = nn.ReLU()\n",
        "        self.softmax = nn.Softmax(dim=1)\n",
        "\n",
        "    def forward(self, x):\n",
        "        x = self.relu(self.fc1(x))\n",
        "        x = self.relu(self.fc2(x))\n",
        "        x = self.fc3(x)\n",
        "        return x\n",
        "\n",
        "# Initialize model\n",
        "device = torch.device(\"cuda\" if torch.cuda.is_available() else \"cpu\")\n",
        "model = IntrusionDetectionNN().to(device)\n",
        "\n",
        "# Loss and optimizer\n",
        "criterion = nn.CrossEntropyLoss()\n",
        "optimizer = optim.Adam(model.parameters(), lr=0.0005)\n",
        "\n",
        "# Training loop\n",
        "num_epochs = 50\n",
        "losses = []\n",
        "model.train()\n",
        "for epoch in range(num_epochs):\n",
        "    optimizer.zero_grad()\n",
        "    outputs = model(X_train_tensor.to(device))\n",
        "    loss = criterion(outputs, y_train_tensor.to(device))\n",
        "    loss.backward()\n",
        "    optimizer.step()\n",
        "    losses.append(loss.item())\n",
        "    print(f\"Epoch {epoch+1}/{num_epochs}, Loss: {loss.item():.4f}\")\n",
        "\n",
        "# Plot loss curve\n",
        "plt.figure(figsize=(10, 5))\n",
        "plt.plot(losses, label='Training Loss')\n",
        "plt.xlabel('Epoch')\n",
        "plt.ylabel('Loss')\n",
        "plt.title('Training Loss Curve')\n",
        "plt.legend()\n",
        "plt.show()\n",
        "\n",
        "# Evaluation\n",
        "model.eval()\n",
        "y_pred = model(X_test_tensor.to(device))\n",
        "y_pred_labels = torch.argmax(y_pred, dim=1).cpu().numpy()\n",
        "y_true = y_test_tensor.cpu().numpy()\n",
        "\n",
        "# Metrics\n",
        "print(\"\\nClassification Report:\")\n",
        "print(classification_report(y_true, y_pred_labels))\n",
        "\n",
        "# Confusion matrix\n",
        "conf_matrix = confusion_matrix(y_true, y_pred_labels)\n",
        "plt.figure(figsize=(6, 5))\n",
        "sns.heatmap(conf_matrix, annot=True, fmt=\"d\", cmap=\"Blues\", xticklabels=['Normal', 'Attack'], yticklabels=['Normal', 'Attack'])\n",
        "plt.xlabel(\"Predicted\")\n",
        "plt.ylabel(\"Actual\")\n",
        "plt.title(\"Confusion Matrix\")\n",
        "plt.show()\n",
        "\n",
        "# Save model\n",
        "torch.save(model.state_dict(), \"intrusion_detection_model.pth\")\n",
        "print(\"Model saved successfully!\")\n"
      ]
    },
    {
      "cell_type": "code",
      "execution_count": null,
      "metadata": {
        "colab": {
          "base_uri": "https://localhost:8080/"
        },
        "id": "Ihr1z0zYja8e",
        "outputId": "ef0585c1-56e6-4073-f6e8-42c3384bb909"
      },
      "outputs": [
        {
          "name": "stdout",
          "output_type": "stream",
          "text": [
            "Index([' Destination Port', ' Flow Duration', ' Total Fwd Packets',\n",
            "       ' Total Backward Packets', 'Total Length of Fwd Packets',\n",
            "       ' Total Length of Bwd Packets', ' Fwd Packet Length Max',\n",
            "       ' Fwd Packet Length Min', ' Fwd Packet Length Mean',\n",
            "       ' Fwd Packet Length Std', 'Bwd Packet Length Max',\n",
            "       ' Bwd Packet Length Min', ' Bwd Packet Length Mean',\n",
            "       ' Bwd Packet Length Std', 'Flow Bytes/s', ' Flow Packets/s',\n",
            "       ' Flow IAT Mean', ' Flow IAT Std', ' Flow IAT Max', ' Flow IAT Min',\n",
            "       'Fwd IAT Total', ' Fwd IAT Mean', ' Fwd IAT Std', ' Fwd IAT Max',\n",
            "       ' Fwd IAT Min', 'Bwd IAT Total', ' Bwd IAT Mean', ' Bwd IAT Std',\n",
            "       ' Bwd IAT Max', ' Bwd IAT Min', 'Fwd PSH Flags', ' Bwd PSH Flags',\n",
            "       ' Fwd URG Flags', ' Bwd URG Flags', ' Fwd Header Length',\n",
            "       ' Bwd Header Length', 'Fwd Packets/s', ' Bwd Packets/s',\n",
            "       ' Min Packet Length', ' Max Packet Length', ' Packet Length Mean',\n",
            "       ' Packet Length Std', ' Packet Length Variance', 'FIN Flag Count',\n",
            "       ' SYN Flag Count', ' RST Flag Count', ' PSH Flag Count',\n",
            "       ' ACK Flag Count', ' URG Flag Count', ' CWE Flag Count',\n",
            "       ' ECE Flag Count', ' Down/Up Ratio', ' Average Packet Size',\n",
            "       ' Avg Fwd Segment Size', ' Avg Bwd Segment Size',\n",
            "       ' Fwd Header Length.1', 'Fwd Avg Bytes/Bulk', ' Fwd Avg Packets/Bulk',\n",
            "       ' Fwd Avg Bulk Rate', ' Bwd Avg Bytes/Bulk', ' Bwd Avg Packets/Bulk',\n",
            "       'Bwd Avg Bulk Rate', 'Subflow Fwd Packets', ' Subflow Fwd Bytes',\n",
            "       ' Subflow Bwd Packets', ' Subflow Bwd Bytes', 'Init_Win_bytes_forward',\n",
            "       ' Init_Win_bytes_backward', ' act_data_pkt_fwd',\n",
            "       ' min_seg_size_forward', 'Active Mean', ' Active Std', ' Active Max',\n",
            "       ' Active Min', 'Idle Mean', ' Idle Std', ' Idle Max', ' Idle Min',\n",
            "       ' Label'],\n",
            "      dtype='object')\n"
          ]
        }
      ],
      "source": [
        "print(df.columns)\n"
      ]
    },
    {
      "cell_type": "code",
      "execution_count": null,
      "metadata": {
        "id": "JSjZYCnikvlu"
      },
      "outputs": [],
      "source": [
        "# Strip leading/trailing spaces from column names\n",
        "df.columns = df.columns.str.strip()\n",
        "\n",
        "# Now this will work without errors\n",
        "X = df[selected_features]\n"
      ]
    },
    {
      "cell_type": "code",
      "execution_count": null,
      "metadata": {
        "id": "PwFkeVVUnsKn"
      },
      "outputs": [],
      "source": [
        "# Convert categorical labels to numerical values\n",
        "y = y.map({'BENIGN': 0, 'MALICIOUS': 1})\n",
        "\n",
        "# Ensure there are no NaN values after mapping\n",
        "y = y.dropna().astype(int)\n"
      ]
    },
    {
      "cell_type": "code",
      "execution_count": null,
      "metadata": {
        "id": "znaiSERIocO-"
      },
      "outputs": [],
      "source": [
        "# Drop rows where y is NaN\n",
        "df = df.dropna(subset=['Label'])\n",
        "\n",
        "# Recreate X and y after dropping NaN\n",
        "X = df[selected_features]\n",
        "y = df['Label'].astype(str)  # Convert to string to avoid type errors\n",
        "\n",
        "# Encode y into integers (e.g., 0 for BENIGN, 1 for ATTACK)\n",
        "y = y.map({'BENIGN': 0, 'ATTACK': 1})  # Adjust this based on actual labels\n",
        "\n",
        "# Ensure no NaN values in y\n",
        "y = y.dropna()\n"
      ]
    },
    {
      "cell_type": "code",
      "execution_count": null,
      "metadata": {
        "colab": {
          "base_uri": "https://localhost:8080/"
        },
        "id": "ngRAfiyYo4nX",
        "outputId": "cf21e3f3-0321-49fb-e993-15f24ca96053"
      },
      "outputs": [
        {
          "name": "stdout",
          "output_type": "stream",
          "text": [
            "Checking for NaN values in y before resampling:\n",
            "128027\n"
          ]
        }
      ],
      "source": [
        "print(\"Checking for NaN values in y before resampling:\")\n",
        "print(y.isnull().sum())  # Should be 0 if all NaNs are removed\n"
      ]
    },
    {
      "cell_type": "code",
      "execution_count": null,
      "metadata": {
        "colab": {
          "base_uri": "https://localhost:8080/"
        },
        "id": "V21123UHo-WX",
        "outputId": "44152839-b8d4-410d-844b-91e38397e365"
      },
      "outputs": [
        {
          "name": "stdout",
          "output_type": "stream",
          "text": [
            "NaN values in y after cleanup: 0\n"
          ]
        }
      ],
      "source": [
        "# Drop rows where 'Label' is NaN in df\n",
        "df = df.dropna(subset=['Label'])\n",
        "\n",
        "# Recreate X and y after dropping NaN\n",
        "X = df[selected_features]\n",
        "y = df['Label'].astype(str)  # Convert to string to avoid type errors\n",
        "\n",
        "# Encode y into integers (modify based on actual labels)\n",
        "y = y.map({'BENIGN': 0, 'ATTACK': 1})  # Adjust this mapping based on your dataset\n",
        "\n",
        "# Drop any remaining NaN values in y\n",
        "y.dropna(inplace=True)\n",
        "\n",
        "# Convert y to integer type\n",
        "y = y.astype(int)\n",
        "\n",
        "# Check again if there are any NaN values\n",
        "print(\"NaN values in y after cleanup:\", y.isnull().sum())  # Must print 0\n"
      ]
    },
    {
      "cell_type": "code",
      "execution_count": null,
      "metadata": {
        "colab": {
          "base_uri": "https://localhost:8080/"
        },
        "id": "15-Fu36gpCb_",
        "outputId": "952a0af9-36aa-46c6-9c84-36af0dd54a4d"
      },
      "outputs": [
        {
          "name": "stdout",
          "output_type": "stream",
          "text": [
            "Shape of X: (225745, 8)\n",
            "Shape of y: (97718,)\n"
          ]
        }
      ],
      "source": [
        "print(\"Shape of X:\", X.shape)\n",
        "print(\"Shape of y:\", y.shape)\n"
      ]
    },
    {
      "cell_type": "code",
      "execution_count": null,
      "metadata": {
        "colab": {
          "base_uri": "https://localhost:8080/"
        },
        "id": "mfouGI_bpde_",
        "outputId": "25b06ad4-5427-424e-e6cd-ea92379a0cf5"
      },
      "outputs": [
        {
          "name": "stdout",
          "output_type": "stream",
          "text": [
            "Checking for infinity values in X:\n",
            "Flow Duration              0\n",
            "Total Fwd Packets          0\n",
            "Total Backward Packets     0\n",
            "Flow Packets/s            34\n",
            "Fwd Packet Length Mean     0\n",
            "Bwd Packet Length Mean     0\n",
            "Min Packet Length          0\n",
            "Max Packet Length          0\n",
            "dtype: int64\n",
            "\n",
            "Checking for extremely large values:\n",
            "       Flow Duration  Total Fwd Packets  Total Backward Packets  \\\n",
            "count   2.257450e+05      225745.000000           225745.000000   \n",
            "mean    1.624165e+07           4.874916                4.572775   \n",
            "std     3.152437e+07          15.422874               21.755356   \n",
            "min    -1.000000e+00           1.000000                0.000000   \n",
            "25%     7.118000e+04           2.000000                1.000000   \n",
            "50%     1.452333e+06           3.000000                4.000000   \n",
            "75%     8.805237e+06           5.000000                5.000000   \n",
            "max     1.199999e+08        1932.000000             2942.000000   \n",
            "\n",
            "       Flow Packets/s  Fwd Packet Length Mean  Bwd Packet Length Mean  \\\n",
            "count    2.257450e+05           225745.000000           225745.000000   \n",
            "mean              inf              164.826715              890.536849   \n",
            "std               NaN              504.892965             1120.324921   \n",
            "min     -2.000000e+06                0.000000                0.000000   \n",
            "25%      6.185506e-01                6.000000                0.000000   \n",
            "50%      5.179323e+00                8.666667               92.000000   \n",
            "75%      7.046933e+01               32.000000             1934.500000   \n",
            "max               inf             3867.000000             5800.500000   \n",
            "\n",
            "       Min Packet Length  Max Packet Length  \n",
            "count      225745.000000      225745.000000  \n",
            "mean            8.072595        3226.045339  \n",
            "std            15.767713        3813.134850  \n",
            "min             0.000000           0.000000  \n",
            "25%             0.000000           6.000000  \n",
            "50%             0.000000         513.000000  \n",
            "75%             6.000000        5840.000000  \n",
            "max           337.000000       11680.000000  \n"
          ]
        }
      ],
      "source": [
        "print(\"Checking for infinity values in X:\")\n",
        "print(np.isinf(X).sum())  # Count of inf values per column\n",
        "\n",
        "print(\"\\nChecking for extremely large values:\")\n",
        "print(X.describe())  # See if any values are abnormally large\n"
      ]
    },
    {
      "cell_type": "code",
      "execution_count": null,
      "metadata": {
        "colab": {
          "base_uri": "https://localhost:8080/"
        },
        "id": "JlfFHReZpm43",
        "outputId": "08cb996c-4e6f-4833-ab49-5416f5f0c454"
      },
      "outputs": [
        {
          "name": "stderr",
          "output_type": "stream",
          "text": [
            "<ipython-input-47-7d34e3fec055>:1: SettingWithCopyWarning: \n",
            "A value is trying to be set on a copy of a slice from a DataFrame\n",
            "\n",
            "See the caveats in the documentation: https://pandas.pydata.org/pandas-docs/stable/user_guide/indexing.html#returning-a-view-versus-a-copy\n",
            "  X.replace([np.inf, -np.inf], np.nan, inplace=True)  # Convert inf to NaN\n",
            "<ipython-input-47-7d34e3fec055>:2: SettingWithCopyWarning: \n",
            "A value is trying to be set on a copy of a slice from a DataFrame\n",
            "\n",
            "See the caveats in the documentation: https://pandas.pydata.org/pandas-docs/stable/user_guide/indexing.html#returning-a-view-versus-a-copy\n",
            "  X.fillna(X.median(), inplace=True)  # Replace NaN with median values\n"
          ]
        }
      ],
      "source": [
        "X.replace([np.inf, -np.inf], np.nan, inplace=True)  # Convert inf to NaN\n",
        "X.fillna(X.median(), inplace=True)  # Replace NaN with median values\n"
      ]
    },
    {
      "cell_type": "code",
      "execution_count": null,
      "metadata": {
        "colab": {
          "base_uri": "https://localhost:8080/"
        },
        "id": "7QnGoWU0ppxf",
        "outputId": "7c8b1991-1c9a-437c-c653-5e6b7325edc0"
      },
      "outputs": [
        {
          "name": "stdout",
          "output_type": "stream",
          "text": [
            "Final check for NaN values: 0\n",
            "Final check for inf values: 0\n"
          ]
        }
      ],
      "source": [
        "print(\"Final check for NaN values:\", X.isnull().sum().sum())  # Should print 0\n",
        "print(\"Final check for inf values:\", np.isinf(X).sum().sum())  # Should print 0\n"
      ]
    },
    {
      "cell_type": "code",
      "execution_count": null,
      "metadata": {
        "colab": {
          "base_uri": "https://localhost:8080/"
        },
        "id": "xIdSDQUOp9Q_",
        "outputId": "49a05bcf-fa32-4450-c4e9-fe7922e90467"
      },
      "outputs": [
        {
          "name": "stdout",
          "output_type": "stream",
          "text": [
            "Length of X: 225745\n",
            "Length of y: 97718\n"
          ]
        }
      ],
      "source": [
        "print(\"Length of X:\", len(X))\n",
        "print(\"Length of y:\", len(y))\n"
      ]
    },
    {
      "cell_type": "code",
      "execution_count": null,
      "metadata": {
        "colab": {
          "base_uri": "https://localhost:8080/"
        },
        "id": "NbEOS2jFqAbv",
        "outputId": "15139874-cdfd-4f41-d557-1cb2fc850971"
      },
      "outputs": [
        {
          "name": "stdout",
          "output_type": "stream",
          "text": [
            "Checking for NaN in y: 0\n"
          ]
        }
      ],
      "source": [
        "print(\"Checking for NaN in y:\", y.isnull().sum())  # Should be 0\n"
      ]
    },
    {
      "cell_type": "code",
      "execution_count": null,
      "metadata": {
        "id": "ycQg0zQ9qC8P"
      },
      "outputs": [],
      "source": [
        "y = y.dropna()\n"
      ]
    },
    {
      "cell_type": "code",
      "execution_count": null,
      "metadata": {
        "id": "SE0B7pL1qFZ_"
      },
      "outputs": [],
      "source": [
        "X = X.loc[y.index]  # Ensure X only contains rows that exist in y\n"
      ]
    },
    {
      "cell_type": "code",
      "execution_count": null,
      "metadata": {
        "colab": {
          "base_uri": "https://localhost:8080/"
        },
        "id": "x9IEFnO7qHg2",
        "outputId": "f1f60231-f0f9-4245-ace9-c72f730bebd3"
      },
      "outputs": [
        {
          "name": "stdout",
          "output_type": "stream",
          "text": [
            "Final Length of X: 97718\n",
            "Final Length of y: 97718\n"
          ]
        }
      ],
      "source": [
        "print(\"Final Length of X:\", len(X))\n",
        "print(\"Final Length of y:\", len(y))\n"
      ]
    },
    {
      "cell_type": "code",
      "execution_count": null,
      "metadata": {
        "colab": {
          "base_uri": "https://localhost:8080/"
        },
        "id": "bmNOGJWZqyrP",
        "outputId": "e041c8e9-a54f-4bc8-8bd0-6ae6ec1ed0a2"
      },
      "outputs": [
        {
          "name": "stdout",
          "output_type": "stream",
          "text": [
            "Label\n",
            "0    97718\n",
            "Name: count, dtype: int64\n"
          ]
        }
      ],
      "source": [
        "print(y.value_counts())  # Check how many samples per class\n"
      ]
    },
    {
      "cell_type": "code",
      "execution_count": null,
      "metadata": {
        "colab": {
          "base_uri": "https://localhost:8080/"
        },
        "id": "8Cd834Lyq2CA",
        "outputId": "a8b6daa1-e513-4403-bcbd-081fb5ae680e"
      },
      "outputs": [
        {
          "name": "stdout",
          "output_type": "stream",
          "text": [
            "Label\n",
            "DDoS      128027\n",
            "BENIGN     97718\n",
            "Name: count, dtype: int64\n"
          ]
        }
      ],
      "source": [
        "# Ensure X and y are correctly extracted again\n",
        "X = df[selected_features]  # Select the correct feature columns\n",
        "y = df['Label']  # Ensure y has both classes\n",
        "\n",
        "# Check again\n",
        "print(y.value_counts())  # There should be at least 2 classes\n"
      ]
    },
    {
      "cell_type": "code",
      "execution_count": null,
      "metadata": {
        "id": "wq89X3-9q32n"
      },
      "outputs": [],
      "source": [
        "from sklearn.preprocessing import LabelEncoder\n",
        "\n",
        "le = LabelEncoder()\n",
        "y = le.fit_transform(y)  # Convert labels to 0 and 1\n"
      ]
    },
    {
      "cell_type": "code",
      "execution_count": null,
      "metadata": {
        "colab": {
          "base_uri": "https://localhost:8080/"
        },
        "id": "dXUf99sWrHXH",
        "outputId": "a23d3116-6a80-4f68-9b9f-16a0d0a09d63"
      },
      "outputs": [
        {
          "name": "stdout",
          "output_type": "stream",
          "text": [
            "Flow Duration              0\n",
            "Total Fwd Packets          0\n",
            "Total Backward Packets     0\n",
            "Flow Packets/s            34\n",
            "Fwd Packet Length Mean     0\n",
            "Bwd Packet Length Mean     0\n",
            "Min Packet Length          0\n",
            "Max Packet Length          0\n",
            "dtype: int64\n",
            "Flow Duration              0\n",
            "Total Fwd Packets          0\n",
            "Total Backward Packets     0\n",
            "Flow Packets/s            34\n",
            "Fwd Packet Length Mean     0\n",
            "Bwd Packet Length Mean     0\n",
            "Min Packet Length          0\n",
            "Max Packet Length          0\n",
            "dtype: int64\n"
          ]
        }
      ],
      "source": [
        "import numpy as np\n",
        "\n",
        "# Find where inf values exist\n",
        "print(np.isinf(X).sum())  # Number of infinite values per column\n",
        "\n",
        "# Find where very large values exist\n",
        "print((X > 1e10).sum())  # Number of extremely large values per column\n"
      ]
    },
    {
      "cell_type": "code",
      "execution_count": null,
      "metadata": {
        "colab": {
          "base_uri": "https://localhost:8080/"
        },
        "id": "sxp-VR1nrJ2_",
        "outputId": "78f7c35c-e862-425d-ff5c-06a748dc0eec"
      },
      "outputs": [
        {
          "name": "stderr",
          "output_type": "stream",
          "text": [
            "<ipython-input-61-611c557de8a9>:1: SettingWithCopyWarning: \n",
            "A value is trying to be set on a copy of a slice from a DataFrame\n",
            "\n",
            "See the caveats in the documentation: https://pandas.pydata.org/pandas-docs/stable/user_guide/indexing.html#returning-a-view-versus-a-copy\n",
            "  X.replace([np.inf, -np.inf], np.nan, inplace=True)\n"
          ]
        }
      ],
      "source": [
        "X.replace([np.inf, -np.inf], np.nan, inplace=True)\n"
      ]
    },
    {
      "cell_type": "code",
      "execution_count": null,
      "metadata": {
        "id": "AxTPioWTrMsf"
      },
      "outputs": [],
      "source": [
        "X = X.clip(-1e9, 1e9)  # Set a limit for extreme values\n"
      ]
    },
    {
      "cell_type": "code",
      "execution_count": null,
      "metadata": {
        "id": "Zf_kU-_JrOqH"
      },
      "outputs": [],
      "source": [
        "X.fillna(X.median(), inplace=True)\n"
      ]
    },
    {
      "cell_type": "code",
      "execution_count": null,
      "metadata": {
        "colab": {
          "base_uri": "https://localhost:8080/"
        },
        "id": "t6qWIOegrQxP",
        "outputId": "c33310e4-4bea-45b5-95fd-0e1ba8d4a6f3"
      },
      "outputs": [
        {
          "name": "stdout",
          "output_type": "stream",
          "text": [
            "Oversampling successful!\n"
          ]
        }
      ],
      "source": [
        "adasyn = ADASYN(random_state=42)\n",
        "X_resampled, y_resampled = adasyn.fit_resample(X, y)\n",
        "\n",
        "print(\"Oversampling successful!\")\n"
      ]
    },
    {
      "cell_type": "code",
      "execution_count": null,
      "metadata": {
        "colab": {
          "base_uri": "https://localhost:8080/"
        },
        "id": "_-18upXB0RBM",
        "outputId": "70c2fd55-f0a6-495a-a0a3-a7a6bb93bf68"
      },
      "outputs": [
        {
          "name": "stdout",
          "output_type": "stream",
          "text": [
            "128027\n"
          ]
        }
      ],
      "source": [
        "print(y.isnull().sum())  # This shows how many NaNs are in y\n"
      ]
    },
    {
      "cell_type": "code",
      "execution_count": null,
      "metadata": {
        "id": "cy7PSTqC0voh"
      },
      "outputs": [],
      "source": [
        "# Remove rows where y is NaN\n",
        "X = X[y.notnull()]\n",
        "y = y.dropna()\n"
      ]
    },
    {
      "cell_type": "code",
      "execution_count": null,
      "metadata": {
        "id": "MGKurBdt00BI"
      },
      "outputs": [],
      "source": [
        "y.fillna(y.mode()[0], inplace=True)  # Replace NaNs with the most common class\n"
      ]
    },
    {
      "cell_type": "code",
      "execution_count": null,
      "metadata": {
        "colab": {
          "base_uri": "https://localhost:8080/"
        },
        "id": "q39BPL0-1B_z",
        "outputId": "0d356668-bb2d-4357-a93a-bc582bda6514"
      },
      "outputs": [
        {
          "name": "stdout",
          "output_type": "stream",
          "text": [
            "Label\n",
            "0.0    97718\n",
            "Name: count, dtype: int64\n"
          ]
        }
      ],
      "source": [
        "print(y.value_counts())  # Ensure y has at least 2 unique values\n"
      ]
    },
    {
      "cell_type": "code",
      "execution_count": null,
      "metadata": {
        "colab": {
          "base_uri": "https://localhost:8080/"
        },
        "id": "A37QCG361E4K",
        "outputId": "50a78dcd-0e86-4f26-aab1-482142d8328b"
      },
      "outputs": [
        {
          "name": "stdout",
          "output_type": "stream",
          "text": [
            "97718 97718\n"
          ]
        }
      ],
      "source": [
        "print(len(X), len(y))  # These should be equal\n"
      ]
    },
    {
      "cell_type": "code",
      "execution_count": null,
      "metadata": {
        "colab": {
          "base_uri": "https://localhost:8080/"
        },
        "id": "4rkRRe4k1XEQ",
        "outputId": "dbfb30a6-618d-4458-b369-f64d3565b4b7"
      },
      "outputs": [
        {
          "name": "stdout",
          "output_type": "stream",
          "text": [
            "Label\n",
            "0.0    97718\n",
            "Name: count, dtype: int64\n"
          ]
        }
      ],
      "source": [
        "print(y.value_counts())\n"
      ]
    },
    {
      "cell_type": "code",
      "execution_count": null,
      "metadata": {
        "colab": {
          "base_uri": "https://localhost:8080/"
        },
        "id": "BqmOhGzU1X0p",
        "outputId": "6a3a2375-7ae4-46f2-a796-ced272dbf22c"
      },
      "outputs": [
        {
          "name": "stdout",
          "output_type": "stream",
          "text": [
            "Length of X: 97718, Length of y: 97718\n"
          ]
        }
      ],
      "source": [
        "print(f\"Length of X: {len(X)}, Length of y: {len(y)}\")\n"
      ]
    },
    {
      "cell_type": "code",
      "execution_count": null,
      "metadata": {
        "id": "deLFrB4W1bro"
      },
      "outputs": [],
      "source": [
        "X = X[:len(y)]  # Use NumPy slicing instead of .iloc\n"
      ]
    },
    {
      "cell_type": "code",
      "execution_count": null,
      "metadata": {
        "colab": {
          "base_uri": "https://localhost:8080/"
        },
        "id": "yfuSkujp1-C5",
        "outputId": "4c6f3bd2-f5f0-4c6f-b2cf-4d23a6888953"
      },
      "outputs": [
        {
          "name": "stdout",
          "output_type": "stream",
          "text": [
            "NaN values in X: 0\n",
            "Infinite values in X: 0\n"
          ]
        }
      ],
      "source": [
        "print(\"NaN values in X:\", np.isnan(X).sum())\n",
        "print(\"Infinite values in X:\", np.isinf(X).sum())\n"
      ]
    },
    {
      "cell_type": "code",
      "execution_count": null,
      "metadata": {
        "id": "hBmdYCJf2JWK"
      },
      "outputs": [],
      "source": [
        "X = np.where(np.isinf(X), np.nan, X)  # Replace inf values with NaN\n",
        "X = np.nan_to_num(X, nan=np.nanmedian(X))  # Replace NaN with median\n"
      ]
    },
    {
      "cell_type": "code",
      "execution_count": null,
      "metadata": {
        "colab": {
          "base_uri": "https://localhost:8080/"
        },
        "id": "VDFhOVNV2ewG",
        "outputId": "b95006bf-c804-41b3-b3fb-75a3b3b838f4"
      },
      "outputs": [
        {
          "name": "stdout",
          "output_type": "stream",
          "text": [
            "Class Distribution in y: {0.0: 97718}\n"
          ]
        }
      ],
      "source": [
        "import numpy as np\n",
        "\n",
        "# Check unique values in y\n",
        "unique_classes, class_counts = np.unique(y, return_counts=True)\n",
        "print(\"Class Distribution in y:\", dict(zip(unique_classes, class_counts)))\n"
      ]
    },
    {
      "cell_type": "code",
      "execution_count": null,
      "metadata": {
        "colab": {
          "base_uri": "https://localhost:8080/"
        },
        "id": "8_uKzrt12jcR",
        "outputId": "a5a59029-cf26-4898-a9af-569b6ea3586d"
      },
      "outputs": [
        {
          "name": "stdout",
          "output_type": "stream",
          "text": [
            "Class Distribution in y: {0.0: 97718}\n"
          ]
        }
      ],
      "source": [
        "import numpy as np\n",
        "\n",
        "# Check unique values in y\n",
        "unique_classes, class_counts = np.unique(y, return_counts=True)\n",
        "print(\"Class Distribution in y:\", dict(zip(unique_classes, class_counts)))\n"
      ]
    },
    {
      "cell_type": "code",
      "execution_count": null,
      "metadata": {
        "colab": {
          "base_uri": "https://localhost:8080/"
        },
        "id": "WVSLYOWx4in9",
        "outputId": "e701eb63-0dfc-4ab7-d643-6e945a4f27c3"
      },
      "outputs": [
        {
          "name": "stdout",
          "output_type": "stream",
          "text": [
            "[' Destination Port', ' Flow Duration', ' Total Fwd Packets', ' Total Backward Packets', 'Total Length of Fwd Packets', ' Total Length of Bwd Packets', ' Fwd Packet Length Max', ' Fwd Packet Length Min', ' Fwd Packet Length Mean', ' Fwd Packet Length Std', 'Bwd Packet Length Max', ' Bwd Packet Length Min', ' Bwd Packet Length Mean', ' Bwd Packet Length Std', 'Flow Bytes/s', ' Flow Packets/s', ' Flow IAT Mean', ' Flow IAT Std', ' Flow IAT Max', ' Flow IAT Min', 'Fwd IAT Total', ' Fwd IAT Mean', ' Fwd IAT Std', ' Fwd IAT Max', ' Fwd IAT Min', 'Bwd IAT Total', ' Bwd IAT Mean', ' Bwd IAT Std', ' Bwd IAT Max', ' Bwd IAT Min', 'Fwd PSH Flags', ' Bwd PSH Flags', ' Fwd URG Flags', ' Bwd URG Flags', ' Fwd Header Length', ' Bwd Header Length', 'Fwd Packets/s', ' Bwd Packets/s', ' Min Packet Length', ' Max Packet Length', ' Packet Length Mean', ' Packet Length Std', ' Packet Length Variance', 'FIN Flag Count', ' SYN Flag Count', ' RST Flag Count', ' PSH Flag Count', ' ACK Flag Count', ' URG Flag Count', ' CWE Flag Count', ' ECE Flag Count', ' Down/Up Ratio', ' Average Packet Size', ' Avg Fwd Segment Size', ' Avg Bwd Segment Size', ' Fwd Header Length.1', 'Fwd Avg Bytes/Bulk', ' Fwd Avg Packets/Bulk', ' Fwd Avg Bulk Rate', ' Bwd Avg Bytes/Bulk', ' Bwd Avg Packets/Bulk', 'Bwd Avg Bulk Rate', 'Subflow Fwd Packets', ' Subflow Fwd Bytes', ' Subflow Bwd Packets', ' Subflow Bwd Bytes', 'Init_Win_bytes_forward', ' Init_Win_bytes_backward', ' act_data_pkt_fwd', ' min_seg_size_forward', 'Active Mean', ' Active Std', ' Active Max', ' Active Min', 'Idle Mean', ' Idle Std', ' Idle Max', ' Idle Min', ' Label']\n"
          ]
        }
      ],
      "source": [
        "print(df.columns.tolist())  # Show all column names as a list\n"
      ]
    },
    {
      "cell_type": "code",
      "execution_count": null,
      "metadata": {
        "colab": {
          "base_uri": "https://localhost:8080/"
        },
        "id": "wb8OwedD4lNA",
        "outputId": "874aba0d-cff1-4c99-aa8f-bdfd2828fcfe"
      },
      "outputs": [
        {
          "name": "stdout",
          "output_type": "stream",
          "text": [
            "['Destination Port', 'Flow Duration', 'Total Fwd Packets', 'Total Backward Packets', 'Total Length of Fwd Packets', 'Total Length of Bwd Packets', 'Fwd Packet Length Max', 'Fwd Packet Length Min', 'Fwd Packet Length Mean', 'Fwd Packet Length Std', 'Bwd Packet Length Max', 'Bwd Packet Length Min', 'Bwd Packet Length Mean', 'Bwd Packet Length Std', 'Flow Bytes/s', 'Flow Packets/s', 'Flow IAT Mean', 'Flow IAT Std', 'Flow IAT Max', 'Flow IAT Min', 'Fwd IAT Total', 'Fwd IAT Mean', 'Fwd IAT Std', 'Fwd IAT Max', 'Fwd IAT Min', 'Bwd IAT Total', 'Bwd IAT Mean', 'Bwd IAT Std', 'Bwd IAT Max', 'Bwd IAT Min', 'Fwd PSH Flags', 'Bwd PSH Flags', 'Fwd URG Flags', 'Bwd URG Flags', 'Fwd Header Length', 'Bwd Header Length', 'Fwd Packets/s', 'Bwd Packets/s', 'Min Packet Length', 'Max Packet Length', 'Packet Length Mean', 'Packet Length Std', 'Packet Length Variance', 'FIN Flag Count', 'SYN Flag Count', 'RST Flag Count', 'PSH Flag Count', 'ACK Flag Count', 'URG Flag Count', 'CWE Flag Count', 'ECE Flag Count', 'Down/Up Ratio', 'Average Packet Size', 'Avg Fwd Segment Size', 'Avg Bwd Segment Size', 'Fwd Header Length.1', 'Fwd Avg Bytes/Bulk', 'Fwd Avg Packets/Bulk', 'Fwd Avg Bulk Rate', 'Bwd Avg Bytes/Bulk', 'Bwd Avg Packets/Bulk', 'Bwd Avg Bulk Rate', 'Subflow Fwd Packets', 'Subflow Fwd Bytes', 'Subflow Bwd Packets', 'Subflow Bwd Bytes', 'Init_Win_bytes_forward', 'Init_Win_bytes_backward', 'act_data_pkt_fwd', 'min_seg_size_forward', 'Active Mean', 'Active Std', 'Active Max', 'Active Min', 'Idle Mean', 'Idle Std', 'Idle Max', 'Idle Min', 'Label']\n"
          ]
        }
      ],
      "source": [
        "df.columns = df.columns.str.strip()  # Remove spaces around column names\n",
        "print(df.columns.tolist())  # Check again\n"
      ]
    },
    {
      "cell_type": "code",
      "execution_count": null,
      "metadata": {
        "colab": {
          "base_uri": "https://localhost:8080/"
        },
        "id": "TPdnXN824nGt",
        "outputId": "e5c50b08-4c95-4ad2-c8fe-a56458ee1b7f"
      },
      "outputs": [
        {
          "name": "stdout",
          "output_type": "stream",
          "text": [
            "Possible match: Label\n"
          ]
        }
      ],
      "source": [
        "for col in df.columns:\n",
        "    if 'label' in col.lower():\n",
        "        print(f\"Possible match: {col}\")  # Find similar column names\n"
      ]
    },
    {
      "cell_type": "code",
      "execution_count": null,
      "metadata": {
        "colab": {
          "base_uri": "https://localhost:8080/"
        },
        "id": "jz1DkmC44p87",
        "outputId": "3ab8a009-f8db-4964-998c-f5ce39d01584"
      },
      "outputs": [
        {
          "name": "stdout",
          "output_type": "stream",
          "text": [
            "    Destination Port   Flow Duration   Total Fwd Packets  \\\n",
            "0              54865               3                   2   \n",
            "1              55054             109                   1   \n",
            "2              55055              52                   1   \n",
            "3              46236              34                   1   \n",
            "4              54863               3                   2   \n",
            "\n",
            "    Total Backward Packets  Total Length of Fwd Packets  \\\n",
            "0                        0                           12   \n",
            "1                        1                            6   \n",
            "2                        1                            6   \n",
            "3                        1                            6   \n",
            "4                        0                           12   \n",
            "\n",
            "    Total Length of Bwd Packets   Fwd Packet Length Max  \\\n",
            "0                             0                       6   \n",
            "1                             6                       6   \n",
            "2                             6                       6   \n",
            "3                             6                       6   \n",
            "4                             0                       6   \n",
            "\n",
            "    Fwd Packet Length Min   Fwd Packet Length Mean   Fwd Packet Length Std  \\\n",
            "0                       6                      6.0                     0.0   \n",
            "1                       6                      6.0                     0.0   \n",
            "2                       6                      6.0                     0.0   \n",
            "3                       6                      6.0                     0.0   \n",
            "4                       6                      6.0                     0.0   \n",
            "\n",
            "   ...   min_seg_size_forward  Active Mean   Active Std   Active Max  \\\n",
            "0  ...                     20          0.0          0.0            0   \n",
            "1  ...                     20          0.0          0.0            0   \n",
            "2  ...                     20          0.0          0.0            0   \n",
            "3  ...                     20          0.0          0.0            0   \n",
            "4  ...                     20          0.0          0.0            0   \n",
            "\n",
            "    Active Min  Idle Mean   Idle Std   Idle Max   Idle Min   Label  \n",
            "0            0        0.0        0.0          0          0  BENIGN  \n",
            "1            0        0.0        0.0          0          0  BENIGN  \n",
            "2            0        0.0        0.0          0          0  BENIGN  \n",
            "3            0        0.0        0.0          0          0  BENIGN  \n",
            "4            0        0.0        0.0          0          0  BENIGN  \n",
            "\n",
            "[5 rows x 79 columns]\n"
          ]
        }
      ],
      "source": [
        "df = pd.read_csv('CICIDS2017.csv')\n",
        "print(df.head())  # Preview the first few rows\n"
      ]
    },
    {
      "cell_type": "code",
      "execution_count": null,
      "metadata": {
        "colab": {
          "base_uri": "https://localhost:8080/"
        },
        "id": "6r1Eaxqm4_x_",
        "outputId": "cdbe20c6-2f49-4c3d-9c29-82b471c70a0f"
      },
      "outputs": [
        {
          "name": "stdout",
          "output_type": "stream",
          "text": [
            "['Destination Port', 'Flow Duration', 'Total Fwd Packets', 'Total Backward Packets', 'Total Length of Fwd Packets', 'Total Length of Bwd Packets', 'Fwd Packet Length Max', 'Fwd Packet Length Min', 'Fwd Packet Length Mean', 'Fwd Packet Length Std', 'Bwd Packet Length Max', 'Bwd Packet Length Min', 'Bwd Packet Length Mean', 'Bwd Packet Length Std', 'Flow Bytes/s', 'Flow Packets/s', 'Flow IAT Mean', 'Flow IAT Std', 'Flow IAT Max', 'Flow IAT Min', 'Fwd IAT Total', 'Fwd IAT Mean', 'Fwd IAT Std', 'Fwd IAT Max', 'Fwd IAT Min', 'Bwd IAT Total', 'Bwd IAT Mean', 'Bwd IAT Std', 'Bwd IAT Max', 'Bwd IAT Min', 'Fwd PSH Flags', 'Bwd PSH Flags', 'Fwd URG Flags', 'Bwd URG Flags', 'Fwd Header Length', 'Bwd Header Length', 'Fwd Packets/s', 'Bwd Packets/s', 'Min Packet Length', 'Max Packet Length', 'Packet Length Mean', 'Packet Length Std', 'Packet Length Variance', 'FIN Flag Count', 'SYN Flag Count', 'RST Flag Count', 'PSH Flag Count', 'ACK Flag Count', 'URG Flag Count', 'CWE Flag Count', 'ECE Flag Count', 'Down/Up Ratio', 'Average Packet Size', 'Avg Fwd Segment Size', 'Avg Bwd Segment Size', 'Fwd Header Length.1', 'Fwd Avg Bytes/Bulk', 'Fwd Avg Packets/Bulk', 'Fwd Avg Bulk Rate', 'Bwd Avg Bytes/Bulk', 'Bwd Avg Packets/Bulk', 'Bwd Avg Bulk Rate', 'Subflow Fwd Packets', 'Subflow Fwd Bytes', 'Subflow Bwd Packets', 'Subflow Bwd Bytes', 'Init_Win_bytes_forward', 'Init_Win_bytes_backward', 'act_data_pkt_fwd', 'min_seg_size_forward', 'Active Mean', 'Active Std', 'Active Max', 'Active Min', 'Idle Mean', 'Idle Std', 'Idle Max', 'Idle Min', 'Label']\n"
          ]
        }
      ],
      "source": [
        "df.columns = df.columns.str.strip()  # Remove leading/trailing spaces\n",
        "print(df.columns.tolist())  # Check column names again\n"
      ]
    },
    {
      "cell_type": "code",
      "execution_count": null,
      "metadata": {
        "id": "7_sbu-hY5B0o"
      },
      "outputs": [],
      "source": [
        "df = df.dropna(subset=['Label'])\n"
      ]
    },
    {
      "cell_type": "code",
      "execution_count": null,
      "metadata": {
        "colab": {
          "base_uri": "https://localhost:8080/"
        },
        "id": "PkVyk2x75Doa",
        "outputId": "fdbedb72-caa7-4d2c-ea0a-3ab8b89849f5"
      },
      "outputs": [
        {
          "name": "stdout",
          "output_type": "stream",
          "text": [
            "['Label']\n"
          ]
        }
      ],
      "source": [
        "print([col for col in df.columns if 'label' in col.lower()])\n"
      ]
    },
    {
      "cell_type": "code",
      "execution_count": null,
      "metadata": {
        "id": "8s-G-_615Pcy"
      },
      "outputs": [],
      "source": [
        "df.rename(columns=lambda x: x.strip(), inplace=True)  # Remove hidden spaces\n",
        "df = df.dropna(subset=['Label'])  # Now try again\n"
      ]
    },
    {
      "cell_type": "code",
      "execution_count": null,
      "metadata": {
        "id": "gxuZoyOX5Rll"
      },
      "outputs": [],
      "source": [
        "if 'Label' in df.columns:\n",
        "    df = df.dropna(subset=['Label'])\n",
        "else:\n",
        "    print(\"Column 'Label' is missing from df!\")\n"
      ]
    },
    {
      "cell_type": "code",
      "execution_count": null,
      "metadata": {
        "colab": {
          "base_uri": "https://localhost:8080/"
        },
        "id": "okL8fDrK5dx9",
        "outputId": "9fccb028-0521-40b5-c802-58521ae2c538"
      },
      "outputs": [
        {
          "name": "stdout",
          "output_type": "stream",
          "text": [
            "   Destination Port  Flow Duration  Total Fwd Packets  Total Backward Packets  \\\n",
            "0             54865              3                  2                       0   \n",
            "1             55054            109                  1                       1   \n",
            "2             55055             52                  1                       1   \n",
            "3             46236             34                  1                       1   \n",
            "4             54863              3                  2                       0   \n",
            "\n",
            "   Total Length of Fwd Packets  Total Length of Bwd Packets  \\\n",
            "0                           12                            0   \n",
            "1                            6                            6   \n",
            "2                            6                            6   \n",
            "3                            6                            6   \n",
            "4                           12                            0   \n",
            "\n",
            "   Fwd Packet Length Max  Fwd Packet Length Min  Fwd Packet Length Mean  \\\n",
            "0                      6                      6                     6.0   \n",
            "1                      6                      6                     6.0   \n",
            "2                      6                      6                     6.0   \n",
            "3                      6                      6                     6.0   \n",
            "4                      6                      6                     6.0   \n",
            "\n",
            "   Fwd Packet Length Std  ...  min_seg_size_forward  Active Mean  Active Std  \\\n",
            "0                    0.0  ...                    20          0.0         0.0   \n",
            "1                    0.0  ...                    20          0.0         0.0   \n",
            "2                    0.0  ...                    20          0.0         0.0   \n",
            "3                    0.0  ...                    20          0.0         0.0   \n",
            "4                    0.0  ...                    20          0.0         0.0   \n",
            "\n",
            "   Active Max  Active Min  Idle Mean  Idle Std  Idle Max  Idle Min   Label  \n",
            "0           0           0        0.0       0.0         0         0  BENIGN  \n",
            "1           0           0        0.0       0.0         0         0  BENIGN  \n",
            "2           0           0        0.0       0.0         0         0  BENIGN  \n",
            "3           0           0        0.0       0.0         0         0  BENIGN  \n",
            "4           0           0        0.0       0.0         0         0  BENIGN  \n",
            "\n",
            "[5 rows x 79 columns]\n",
            "Destination Port                 int64\n",
            "Flow Duration                    int64\n",
            "Total Fwd Packets                int64\n",
            "Total Backward Packets           int64\n",
            "Total Length of Fwd Packets      int64\n",
            "                                ...   \n",
            "Idle Mean                      float64\n",
            "Idle Std                       float64\n",
            "Idle Max                         int64\n",
            "Idle Min                         int64\n",
            "Label                           object\n",
            "Length: 79, dtype: object\n"
          ]
        }
      ],
      "source": [
        "print(df.head())  # Ensure Label is still there\n",
        "print(df.dtypes)  # Check if Label is properly formatted\n"
      ]
    },
    {
      "cell_type": "code",
      "execution_count": null,
      "metadata": {
        "id": "j1f0cobo5u-p"
      },
      "outputs": [],
      "source": [
        "from sklearn.preprocessing import LabelEncoder\n",
        "\n",
        "le = LabelEncoder()\n",
        "df[\"Label\"] = le.fit_transform(df[\"Label\"])  # Convert labels to numbers\n"
      ]
    },
    {
      "cell_type": "code",
      "execution_count": null,
      "metadata": {
        "id": "ssNNkpU15xeJ"
      },
      "outputs": [],
      "source": [
        "X = df.drop(columns=[\"Label\"])  # All columns except Label\n",
        "y = df[\"Label\"]  # Target column\n"
      ]
    },
    {
      "cell_type": "code",
      "execution_count": null,
      "metadata": {
        "id": "VOeiNPTr5zR6"
      },
      "outputs": [],
      "source": [
        "import numpy as np\n",
        "\n",
        "X.replace([np.inf, -np.inf], np.nan, inplace=True)  # Replace infinities\n",
        "X.fillna(X.median(), inplace=True)  # Fill NaNs with median\n"
      ]
    },
    {
      "cell_type": "code",
      "execution_count": null,
      "metadata": {
        "id": "M6f0bbLV51Ji"
      },
      "outputs": [],
      "source": [
        "X = X.iloc[:len(y)]  # Trim X if needed\n"
      ]
    },
    {
      "cell_type": "code",
      "execution_count": null,
      "metadata": {
        "colab": {
          "base_uri": "https://localhost:8080/"
        },
        "id": "Er4kA5yz53WT",
        "outputId": "c8bccc39-45b6-4d78-d4e0-72259353f52c"
      },
      "outputs": [
        {
          "name": "stdout",
          "output_type": "stream",
          "text": [
            "Oversampling successful!\n"
          ]
        }
      ],
      "source": [
        "from imblearn.over_sampling import ADASYN\n",
        "\n",
        "adasyn = ADASYN(random_state=42)\n",
        "X_resampled, y_resampled = adasyn.fit_resample(X, y)\n",
        "print(\"Oversampling successful!\")\n"
      ]
    },
    {
      "cell_type": "code",
      "execution_count": null,
      "metadata": {
        "colab": {
          "base_uri": "https://localhost:8080/"
        },
        "id": "97rdEGdq7YUC",
        "outputId": "cac89035-6717-4242-eb86-7d01f47d529a"
      },
      "outputs": [
        {
          "name": "stdout",
          "output_type": "stream",
          "text": [
            "Data split completed!\n"
          ]
        }
      ],
      "source": [
        "from sklearn.model_selection import train_test_split\n",
        "\n",
        "# Splitting the resampled dataset\n",
        "X_train, X_test, y_train, y_test = train_test_split(X_resampled, y_resampled, test_size=0.2, random_state=42)\n",
        "\n",
        "print(\"Data split completed!\")\n"
      ]
    },
    {
      "cell_type": "code",
      "execution_count": null,
      "metadata": {
        "colab": {
          "base_uri": "https://localhost:8080/"
        },
        "id": "6GbNOvH07b4Y",
        "outputId": "9d80d185-9619-4815-879c-ffe8d5c2dff1"
      },
      "outputs": [
        {
          "name": "stdout",
          "output_type": "stream",
          "text": [
            "Model Accuracy: 0.9999218505783057\n",
            "              precision    recall  f1-score   support\n",
            "\n",
            "           0       1.00      1.00      1.00     25602\n",
            "           1       1.00      1.00      1.00     25582\n",
            "\n",
            "    accuracy                           1.00     51184\n",
            "   macro avg       1.00      1.00      1.00     51184\n",
            "weighted avg       1.00      1.00      1.00     51184\n",
            "\n"
          ]
        }
      ],
      "source": [
        "from sklearn.ensemble import RandomForestClassifier\n",
        "from sklearn.metrics import classification_report, accuracy_score\n",
        "\n",
        "# Train the model\n",
        "clf = RandomForestClassifier(n_estimators=100, random_state=42)\n",
        "clf.fit(X_train, y_train)\n",
        "\n",
        "# Make predictions\n",
        "y_pred = clf.predict(X_test)\n",
        "\n",
        "# Evaluate performance\n",
        "print(\"Model Accuracy:\", accuracy_score(y_test, y_pred))\n",
        "print(classification_report(y_test, y_pred))\n"
      ]
    },
    {
      "cell_type": "code",
      "execution_count": null,
      "metadata": {
        "colab": {
          "base_uri": "https://localhost:8080/"
        },
        "id": "Fhm2xoLZ8CHM",
        "outputId": "cb83e07a-037e-46b4-b0db-0ff42879b0c0"
      },
      "outputs": [
        {
          "name": "stdout",
          "output_type": "stream",
          "text": [
            "Model saved successfully!\n"
          ]
        }
      ],
      "source": [
        "import joblib\n",
        "\n",
        "# Save the trained model\n",
        "joblib.dump(clf, \"random_forest_model.pkl\")\n",
        "\n",
        "print(\"Model saved successfully!\")\n"
      ]
    },
    {
      "cell_type": "code",
      "execution_count": null,
      "metadata": {
        "colab": {
          "base_uri": "https://localhost:8080/"
        },
        "id": "UPWUOyC3-kKH",
        "outputId": "f537f5fc-4775-4dfe-a7ee-5349064d5134"
      },
      "outputs": [
        {
          "name": "stdout",
          "output_type": "stream",
          "text": [
            "Columns in DataFrame: Index([' Destination Port', ' Flow Duration', ' Total Fwd Packets',\n",
            "       ' Total Backward Packets', 'Total Length of Fwd Packets',\n",
            "       ' Total Length of Bwd Packets', ' Fwd Packet Length Max',\n",
            "       ' Fwd Packet Length Min', ' Fwd Packet Length Mean',\n",
            "       ' Fwd Packet Length Std', 'Bwd Packet Length Max',\n",
            "       ' Bwd Packet Length Min', ' Bwd Packet Length Mean',\n",
            "       ' Bwd Packet Length Std', 'Flow Bytes/s', ' Flow Packets/s',\n",
            "       ' Flow IAT Mean', ' Flow IAT Std', ' Flow IAT Max', ' Flow IAT Min',\n",
            "       'Fwd IAT Total', ' Fwd IAT Mean', ' Fwd IAT Std', ' Fwd IAT Max',\n",
            "       ' Fwd IAT Min', 'Bwd IAT Total', ' Bwd IAT Mean', ' Bwd IAT Std',\n",
            "       ' Bwd IAT Max', ' Bwd IAT Min', 'Fwd PSH Flags', ' Bwd PSH Flags',\n",
            "       ' Fwd URG Flags', ' Bwd URG Flags', ' Fwd Header Length',\n",
            "       ' Bwd Header Length', 'Fwd Packets/s', ' Bwd Packets/s',\n",
            "       ' Min Packet Length', ' Max Packet Length', ' Packet Length Mean',\n",
            "       ' Packet Length Std', ' Packet Length Variance', 'FIN Flag Count',\n",
            "       ' SYN Flag Count', ' RST Flag Count', ' PSH Flag Count',\n",
            "       ' ACK Flag Count', ' URG Flag Count', ' CWE Flag Count',\n",
            "       ' ECE Flag Count', ' Down/Up Ratio', ' Average Packet Size',\n",
            "       ' Avg Fwd Segment Size', ' Avg Bwd Segment Size',\n",
            "       ' Fwd Header Length.1', 'Fwd Avg Bytes/Bulk', ' Fwd Avg Packets/Bulk',\n",
            "       ' Fwd Avg Bulk Rate', ' Bwd Avg Bytes/Bulk', ' Bwd Avg Packets/Bulk',\n",
            "       'Bwd Avg Bulk Rate', 'Subflow Fwd Packets', ' Subflow Fwd Bytes',\n",
            "       ' Subflow Bwd Packets', ' Subflow Bwd Bytes', 'Init_Win_bytes_forward',\n",
            "       ' Init_Win_bytes_backward', ' act_data_pkt_fwd',\n",
            "       ' min_seg_size_forward', 'Active Mean', ' Active Std', ' Active Max',\n",
            "       ' Active Min', 'Idle Mean', ' Idle Std', ' Idle Max', ' Idle Min',\n",
            "       ' Label'],\n",
            "      dtype='object')\n"
          ]
        }
      ],
      "source": [
        "print(\"Columns in DataFrame:\", df.columns)\n"
      ]
    },
    {
      "cell_type": "code",
      "execution_count": null,
      "metadata": {
        "id": "mwFnETIO-tIt"
      },
      "outputs": [],
      "source": [
        "df.columns = df.columns.str.strip()  # Remove spaces from column names\n"
      ]
    },
    {
      "cell_type": "code",
      "execution_count": null,
      "metadata": {
        "id": "FQAQr0Sa-vH2"
      },
      "outputs": [],
      "source": [
        "df = df.dropna(subset=['Label'])\n"
      ]
    },
    {
      "cell_type": "code",
      "execution_count": null,
      "metadata": {
        "colab": {
          "base_uri": "https://localhost:8080/"
        },
        "id": "DtJBnrPW_FIw",
        "outputId": "808340c2-5562-4d8b-909d-c9ac385a5979"
      },
      "outputs": [
        {
          "name": "stdout",
          "output_type": "stream",
          "text": [
            "Index(['Destination Port', 'Flow Duration', 'Total Fwd Packets',\n",
            "       'Total Backward Packets', 'Total Length of Fwd Packets',\n",
            "       'Total Length of Bwd Packets', 'Fwd Packet Length Max',\n",
            "       'Fwd Packet Length Min', 'Fwd Packet Length Mean',\n",
            "       'Fwd Packet Length Std', 'Bwd Packet Length Max',\n",
            "       'Bwd Packet Length Min', 'Bwd Packet Length Mean',\n",
            "       'Bwd Packet Length Std', 'Flow Bytes/s', 'Flow Packets/s',\n",
            "       'Flow IAT Mean', 'Flow IAT Std', 'Flow IAT Max', 'Flow IAT Min',\n",
            "       'Fwd IAT Total', 'Fwd IAT Mean', 'Fwd IAT Std', 'Fwd IAT Max',\n",
            "       'Fwd IAT Min', 'Bwd IAT Total', 'Bwd IAT Mean', 'Bwd IAT Std',\n",
            "       'Bwd IAT Max', 'Bwd IAT Min', 'Fwd PSH Flags', 'Bwd PSH Flags',\n",
            "       'Fwd URG Flags', 'Bwd URG Flags', 'Fwd Header Length',\n",
            "       'Bwd Header Length', 'Fwd Packets/s', 'Bwd Packets/s',\n",
            "       'Min Packet Length', 'Max Packet Length', 'Packet Length Mean',\n",
            "       'Packet Length Std', 'Packet Length Variance', 'FIN Flag Count',\n",
            "       'SYN Flag Count', 'RST Flag Count', 'PSH Flag Count', 'ACK Flag Count',\n",
            "       'URG Flag Count', 'CWE Flag Count', 'ECE Flag Count', 'Down/Up Ratio',\n",
            "       'Average Packet Size', 'Avg Fwd Segment Size', 'Avg Bwd Segment Size',\n",
            "       'Fwd Header Length.1', 'Fwd Avg Bytes/Bulk', 'Fwd Avg Packets/Bulk',\n",
            "       'Fwd Avg Bulk Rate', 'Bwd Avg Bytes/Bulk', 'Bwd Avg Packets/Bulk',\n",
            "       'Bwd Avg Bulk Rate', 'Subflow Fwd Packets', 'Subflow Fwd Bytes',\n",
            "       'Subflow Bwd Packets', 'Subflow Bwd Bytes', 'Init_Win_bytes_forward',\n",
            "       'Init_Win_bytes_backward', 'act_data_pkt_fwd', 'min_seg_size_forward',\n",
            "       'Active Mean', 'Active Std', 'Active Max', 'Active Min', 'Idle Mean',\n",
            "       'Idle Std', 'Idle Max', 'Idle Min', 'Label'],\n",
            "      dtype='object')\n"
          ]
        }
      ],
      "source": [
        "df.columns = df.columns.str.strip()  # Remove spaces from column names\n",
        "print(df.columns)  # Check that 'Label' exists\n"
      ]
    },
    {
      "cell_type": "code",
      "execution_count": null,
      "metadata": {
        "id": "TpBYO7du_HMB"
      },
      "outputs": [],
      "source": [
        "df = df.dropna(subset=['Label'])\n"
      ]
    },
    {
      "cell_type": "code",
      "execution_count": null,
      "metadata": {
        "colab": {
          "base_uri": "https://localhost:8080/"
        },
        "id": "8V_cmpjU_PYL",
        "outputId": "bcb93631-1e16-4127-94cb-12b5de6c1b7a"
      },
      "outputs": [
        {
          "name": "stdout",
          "output_type": "stream",
          "text": [
            "[' Destination Port', ' Flow Duration', ' Total Fwd Packets', ' Total Backward Packets', 'Total Length of Fwd Packets', ' Total Length of Bwd Packets', ' Fwd Packet Length Max', ' Fwd Packet Length Min', ' Fwd Packet Length Mean', ' Fwd Packet Length Std', 'Bwd Packet Length Max', ' Bwd Packet Length Min', ' Bwd Packet Length Mean', ' Bwd Packet Length Std', 'Flow Bytes/s', ' Flow Packets/s', ' Flow IAT Mean', ' Flow IAT Std', ' Flow IAT Max', ' Flow IAT Min', 'Fwd IAT Total', ' Fwd IAT Mean', ' Fwd IAT Std', ' Fwd IAT Max', ' Fwd IAT Min', 'Bwd IAT Total', ' Bwd IAT Mean', ' Bwd IAT Std', ' Bwd IAT Max', ' Bwd IAT Min', 'Fwd PSH Flags', ' Bwd PSH Flags', ' Fwd URG Flags', ' Bwd URG Flags', ' Fwd Header Length', ' Bwd Header Length', 'Fwd Packets/s', ' Bwd Packets/s', ' Min Packet Length', ' Max Packet Length', ' Packet Length Mean', ' Packet Length Std', ' Packet Length Variance', 'FIN Flag Count', ' SYN Flag Count', ' RST Flag Count', ' PSH Flag Count', ' ACK Flag Count', ' URG Flag Count', ' CWE Flag Count', ' ECE Flag Count', ' Down/Up Ratio', ' Average Packet Size', ' Avg Fwd Segment Size', ' Avg Bwd Segment Size', ' Fwd Header Length.1', 'Fwd Avg Bytes/Bulk', ' Fwd Avg Packets/Bulk', ' Fwd Avg Bulk Rate', ' Bwd Avg Bytes/Bulk', ' Bwd Avg Packets/Bulk', 'Bwd Avg Bulk Rate', 'Subflow Fwd Packets', ' Subflow Fwd Bytes', ' Subflow Bwd Packets', ' Subflow Bwd Bytes', 'Init_Win_bytes_forward', ' Init_Win_bytes_backward', ' act_data_pkt_fwd', ' min_seg_size_forward', 'Active Mean', ' Active Std', ' Active Max', ' Active Min', 'Idle Mean', ' Idle Std', ' Idle Max', ' Idle Min', ' Label']\n"
          ]
        }
      ],
      "source": [
        "print(df.columns.tolist())  # Show all column names\n"
      ]
    },
    {
      "cell_type": "code",
      "execution_count": null,
      "metadata": {
        "colab": {
          "base_uri": "https://localhost:8080/"
        },
        "id": "w9LH1JPB_SAC",
        "outputId": "f461e18a-a45c-4a8e-d61f-bab500c38f0d"
      },
      "outputs": [
        {
          "name": "stdout",
          "output_type": "stream",
          "text": [
            "Possible match: ' Label'\n"
          ]
        }
      ],
      "source": [
        "for col in df.columns:\n",
        "    if 'label' in col.lower():\n",
        "        print(f\"Possible match: '{col}'\")\n"
      ]
    },
    {
      "cell_type": "code",
      "execution_count": null,
      "metadata": {
        "id": "UyazhNpd_Y3q"
      },
      "outputs": [],
      "source": [
        "df.columns = df.columns.str.strip()  # Remove leading/trailing spaces from all column names\n"
      ]
    },
    {
      "cell_type": "code",
      "execution_count": null,
      "metadata": {
        "id": "Hw0KLx5M_bVa"
      },
      "outputs": [],
      "source": [
        "df = df.dropna(subset=['Label'])  # Should now work\n"
      ]
    },
    {
      "cell_type": "code",
      "execution_count": null,
      "metadata": {
        "colab": {
          "base_uri": "https://localhost:8080/"
        },
        "id": "loL1wn4z_dcZ",
        "outputId": "79c244d7-dfa3-408f-d08d-4cebef25cd88"
      },
      "outputs": [
        {
          "name": "stdout",
          "output_type": "stream",
          "text": [
            "['Destination Port', 'Flow Duration', 'Total Fwd Packets', 'Total Backward Packets', 'Total Length of Fwd Packets', 'Total Length of Bwd Packets', 'Fwd Packet Length Max', 'Fwd Packet Length Min', 'Fwd Packet Length Mean', 'Fwd Packet Length Std', 'Bwd Packet Length Max', 'Bwd Packet Length Min', 'Bwd Packet Length Mean', 'Bwd Packet Length Std', 'Flow Bytes/s', 'Flow Packets/s', 'Flow IAT Mean', 'Flow IAT Std', 'Flow IAT Max', 'Flow IAT Min', 'Fwd IAT Total', 'Fwd IAT Mean', 'Fwd IAT Std', 'Fwd IAT Max', 'Fwd IAT Min', 'Bwd IAT Total', 'Bwd IAT Mean', 'Bwd IAT Std', 'Bwd IAT Max', 'Bwd IAT Min', 'Fwd PSH Flags', 'Bwd PSH Flags', 'Fwd URG Flags', 'Bwd URG Flags', 'Fwd Header Length', 'Bwd Header Length', 'Fwd Packets/s', 'Bwd Packets/s', 'Min Packet Length', 'Max Packet Length', 'Packet Length Mean', 'Packet Length Std', 'Packet Length Variance', 'FIN Flag Count', 'SYN Flag Count', 'RST Flag Count', 'PSH Flag Count', 'ACK Flag Count', 'URG Flag Count', 'CWE Flag Count', 'ECE Flag Count', 'Down/Up Ratio', 'Average Packet Size', 'Avg Fwd Segment Size', 'Avg Bwd Segment Size', 'Fwd Header Length.1', 'Fwd Avg Bytes/Bulk', 'Fwd Avg Packets/Bulk', 'Fwd Avg Bulk Rate', 'Bwd Avg Bytes/Bulk', 'Bwd Avg Packets/Bulk', 'Bwd Avg Bulk Rate', 'Subflow Fwd Packets', 'Subflow Fwd Bytes', 'Subflow Bwd Packets', 'Subflow Bwd Bytes', 'Init_Win_bytes_forward', 'Init_Win_bytes_backward', 'act_data_pkt_fwd', 'min_seg_size_forward', 'Active Mean', 'Active Std', 'Active Max', 'Active Min', 'Idle Mean', 'Idle Std', 'Idle Max', 'Idle Min', 'Label']\n"
          ]
        }
      ],
      "source": [
        "print(df.columns.tolist())  # Should now show 'Label' instead of ' Label'\n"
      ]
    },
    {
      "cell_type": "code",
      "execution_count": null,
      "metadata": {
        "id": "scOWeYbrAVGW"
      },
      "outputs": [],
      "source": [
        "df.columns = df.columns.str.strip()  # Remove leading/trailing spaces from column names\n"
      ]
    },
    {
      "cell_type": "code",
      "execution_count": null,
      "metadata": {
        "colab": {
          "base_uri": "https://localhost:8080/"
        },
        "id": "FteoixnBAWkd",
        "outputId": "7df92de5-e299-4c15-c858-d7a79d91e228"
      },
      "outputs": [
        {
          "name": "stdout",
          "output_type": "stream",
          "text": [
            "Index(['Destination Port', 'Flow Duration', 'Total Fwd Packets',\n",
            "       'Total Backward Packets', 'Total Length of Fwd Packets',\n",
            "       'Total Length of Bwd Packets', 'Fwd Packet Length Max',\n",
            "       'Fwd Packet Length Min', 'Fwd Packet Length Mean',\n",
            "       'Fwd Packet Length Std', 'Bwd Packet Length Max',\n",
            "       'Bwd Packet Length Min', 'Bwd Packet Length Mean',\n",
            "       'Bwd Packet Length Std', 'Flow Bytes/s', 'Flow Packets/s',\n",
            "       'Flow IAT Mean', 'Flow IAT Std', 'Flow IAT Max', 'Flow IAT Min',\n",
            "       'Fwd IAT Total', 'Fwd IAT Mean', 'Fwd IAT Std', 'Fwd IAT Max',\n",
            "       'Fwd IAT Min', 'Bwd IAT Total', 'Bwd IAT Mean', 'Bwd IAT Std',\n",
            "       'Bwd IAT Max', 'Bwd IAT Min', 'Fwd PSH Flags', 'Bwd PSH Flags',\n",
            "       'Fwd URG Flags', 'Bwd URG Flags', 'Fwd Header Length',\n",
            "       'Bwd Header Length', 'Fwd Packets/s', 'Bwd Packets/s',\n",
            "       'Min Packet Length', 'Max Packet Length', 'Packet Length Mean',\n",
            "       'Packet Length Std', 'Packet Length Variance', 'FIN Flag Count',\n",
            "       'SYN Flag Count', 'RST Flag Count', 'PSH Flag Count', 'ACK Flag Count',\n",
            "       'URG Flag Count', 'CWE Flag Count', 'ECE Flag Count', 'Down/Up Ratio',\n",
            "       'Average Packet Size', 'Avg Fwd Segment Size', 'Avg Bwd Segment Size',\n",
            "       'Fwd Header Length.1', 'Fwd Avg Bytes/Bulk', 'Fwd Avg Packets/Bulk',\n",
            "       'Fwd Avg Bulk Rate', 'Bwd Avg Bytes/Bulk', 'Bwd Avg Packets/Bulk',\n",
            "       'Bwd Avg Bulk Rate', 'Subflow Fwd Packets', 'Subflow Fwd Bytes',\n",
            "       'Subflow Bwd Packets', 'Subflow Bwd Bytes', 'Init_Win_bytes_forward',\n",
            "       'Init_Win_bytes_backward', 'act_data_pkt_fwd', 'min_seg_size_forward',\n",
            "       'Active Mean', 'Active Std', 'Active Max', 'Active Min', 'Idle Mean',\n",
            "       'Idle Std', 'Idle Max', 'Idle Min', 'Label'],\n",
            "      dtype='object')\n",
            "True\n"
          ]
        }
      ],
      "source": [
        "print(df.columns)  # Verify column names\n",
        "print(\"Label\" in df.columns)  # Should return True\n"
      ]
    },
    {
      "cell_type": "code",
      "execution_count": null,
      "metadata": {
        "id": "obiH_mRDAZTu"
      },
      "outputs": [],
      "source": [
        "# Ensure column names are clean\n",
        "df.columns = df.columns.str.strip()\n",
        "\n",
        "# Drop NaN values in the 'Label' column\n",
        "df = df.dropna(subset=['Label'])\n",
        "\n",
        "# Encode labels\n",
        "from sklearn.preprocessing import LabelEncoder\n",
        "label_encoder = LabelEncoder()\n",
        "df['Label'] = label_encoder.fit_transform(df['Label'])\n"
      ]
    },
    {
      "cell_type": "code",
      "execution_count": null,
      "metadata": {
        "colab": {
          "base_uri": "https://localhost:8080/"
        },
        "id": "A7wpKssgAb83",
        "outputId": "bf6613ba-01c4-4fb0-efd9-62e30fa30d89"
      },
      "outputs": [
        {
          "name": "stdout",
          "output_type": "stream",
          "text": [
            "Index(['Destination Port', 'Flow Duration', 'Total Fwd Packets',\n",
            "       'Total Backward Packets', 'Total Length of Fwd Packets',\n",
            "       'Total Length of Bwd Packets', 'Fwd Packet Length Max',\n",
            "       'Fwd Packet Length Min', 'Fwd Packet Length Mean',\n",
            "       'Fwd Packet Length Std', 'Bwd Packet Length Max',\n",
            "       'Bwd Packet Length Min', 'Bwd Packet Length Mean',\n",
            "       'Bwd Packet Length Std', 'Flow Bytes/s', 'Flow Packets/s',\n",
            "       'Flow IAT Mean', 'Flow IAT Std', 'Flow IAT Max', 'Flow IAT Min',\n",
            "       'Fwd IAT Total', 'Fwd IAT Mean', 'Fwd IAT Std', 'Fwd IAT Max',\n",
            "       'Fwd IAT Min', 'Bwd IAT Total', 'Bwd IAT Mean', 'Bwd IAT Std',\n",
            "       'Bwd IAT Max', 'Bwd IAT Min', 'Fwd PSH Flags', 'Bwd PSH Flags',\n",
            "       'Fwd URG Flags', 'Bwd URG Flags', 'Fwd Header Length',\n",
            "       'Bwd Header Length', 'Fwd Packets/s', 'Bwd Packets/s',\n",
            "       'Min Packet Length', 'Max Packet Length', 'Packet Length Mean',\n",
            "       'Packet Length Std', 'Packet Length Variance', 'FIN Flag Count',\n",
            "       'SYN Flag Count', 'RST Flag Count', 'PSH Flag Count', 'ACK Flag Count',\n",
            "       'URG Flag Count', 'CWE Flag Count', 'ECE Flag Count', 'Down/Up Ratio',\n",
            "       'Average Packet Size', 'Avg Fwd Segment Size', 'Avg Bwd Segment Size',\n",
            "       'Fwd Header Length.1', 'Fwd Avg Bytes/Bulk', 'Fwd Avg Packets/Bulk',\n",
            "       'Fwd Avg Bulk Rate', 'Bwd Avg Bytes/Bulk', 'Bwd Avg Packets/Bulk',\n",
            "       'Bwd Avg Bulk Rate', 'Subflow Fwd Packets', 'Subflow Fwd Bytes',\n",
            "       'Subflow Bwd Packets', 'Subflow Bwd Bytes', 'Init_Win_bytes_forward',\n",
            "       'Init_Win_bytes_backward', 'act_data_pkt_fwd', 'min_seg_size_forward',\n",
            "       'Active Mean', 'Active Std', 'Active Max', 'Active Min', 'Idle Mean',\n",
            "       'Idle Std', 'Idle Max', 'Idle Min', 'Label'],\n",
            "      dtype='object')\n"
          ]
        }
      ],
      "source": [
        "print(df.columns)\n"
      ]
    },
    {
      "cell_type": "code",
      "execution_count": null,
      "metadata": {
        "id": "D1ERsQ4jBHWR"
      },
      "outputs": [],
      "source": [
        "df.columns = df.columns.str.strip()  # Remove spaces\n"
      ]
    },
    {
      "cell_type": "code",
      "execution_count": null,
      "metadata": {
        "colab": {
          "base_uri": "https://localhost:8080/"
        },
        "id": "7OyIgRprBI0N",
        "outputId": "9f17ce51-bf59-4db1-bc38-a7ca28e275eb"
      },
      "outputs": [
        {
          "name": "stdout",
          "output_type": "stream",
          "text": [
            "True\n"
          ]
        }
      ],
      "source": [
        "print(\"Label\" in df.columns)  # Should return True\n"
      ]
    },
    {
      "cell_type": "code",
      "execution_count": null,
      "metadata": {
        "id": "k6UXxofgBKmC"
      },
      "outputs": [],
      "source": [
        "df = df.dropna(subset=['Label'])\n",
        "from sklearn.preprocessing import LabelEncoder\n",
        "label_encoder = LabelEncoder()\n",
        "df['Label'] = label_encoder.fit_transform(df['Label'])\n"
      ]
    },
    {
      "cell_type": "code",
      "execution_count": null,
      "metadata": {
        "colab": {
          "base_uri": "https://localhost:8080/"
        },
        "id": "PWQtD9ZEBMTS",
        "outputId": "8d037e06-d7f4-422d-99d6-c080b57c1bdb"
      },
      "outputs": [
        {
          "name": "stdout",
          "output_type": "stream",
          "text": [
            "Destination Port                 int64\n",
            "Flow Duration                    int64\n",
            "Total Fwd Packets                int64\n",
            "Total Backward Packets           int64\n",
            "Total Length of Fwd Packets      int64\n",
            "                                ...   \n",
            "Active Min                       int64\n",
            "Idle Mean                      float64\n",
            "Idle Std                       float64\n",
            "Idle Max                         int64\n",
            "Idle Min                         int64\n",
            "Length: 78, dtype: object\n"
          ]
        }
      ],
      "source": [
        "X = df.drop(columns=['Label'])  # Features\n",
        "y = df['Label']  # Target\n",
        "print(X.dtypes)  # Ensure no object/string columns\n"
      ]
    },
    {
      "cell_type": "code",
      "execution_count": null,
      "metadata": {
        "colab": {
          "base_uri": "https://localhost:8080/"
        },
        "id": "ZsMTOzRACLZI",
        "outputId": "d7b378f5-1ac8-4bcc-b6b4-b6bde61ee542"
      },
      "outputs": [
        {
          "name": "stdout",
          "output_type": "stream",
          "text": [
            "Shape of X: (225711, 78)\n",
            "Shape of y: (225745,)\n"
          ]
        }
      ],
      "source": [
        "print(\"Shape of X:\", X.shape)\n",
        "print(\"Shape of y:\", y.shape)\n"
      ]
    },
    {
      "cell_type": "code",
      "execution_count": null,
      "metadata": {
        "colab": {
          "base_uri": "https://localhost:8080/"
        },
        "id": "GXSTukTKCOkG",
        "outputId": "7a5d7ee2-5b11-412c-e740-960a7dcf6d71"
      },
      "outputs": [
        {
          "name": "stdout",
          "output_type": "stream",
          "text": [
            "Fixed Shape of X: (225711, 78)\n",
            "Fixed Shape of y: (225711,)\n"
          ]
        }
      ],
      "source": [
        "# Ensure both X and y have the same length\n",
        "min_length = min(len(X), len(y))\n",
        "\n",
        "X = X[:min_length]  # Trim X to match y\n",
        "y = y[:min_length]  # Trim y to match X\n",
        "\n",
        "print(\"Fixed Shape of X:\", X.shape)\n",
        "print(\"Fixed Shape of y:\", y.shape)\n"
      ]
    },
    {
      "cell_type": "code",
      "execution_count": null,
      "metadata": {
        "id": "16CMFUraCajg"
      },
      "outputs": [],
      "source": [
        "adasyn = ADASYN(random_state=42)\n",
        "X_resampled, y_resampled = adasyn.fit_resample(X, y)\n"
      ]
    },
    {
      "cell_type": "code",
      "execution_count": null,
      "metadata": {
        "colab": {
          "base_uri": "https://localhost:8080/"
        },
        "id": "eT2Ty56MD_dw",
        "outputId": "3228e420-99cc-4367-aa6c-86b8142d0707"
      },
      "outputs": [
        {
          "name": "stdout",
          "output_type": "stream",
          "text": [
            "Resampled X shape: (255884, 78)\n",
            "Resampled y shape: (255884,)\n"
          ]
        }
      ],
      "source": [
        "print(\"Resampled X shape:\", X_resampled.shape)\n",
        "print(\"Resampled y shape:\", y_resampled.shape)\n"
      ]
    },
    {
      "cell_type": "code",
      "execution_count": null,
      "metadata": {
        "colab": {
          "base_uri": "https://localhost:8080/"
        },
        "id": "mMbZGeN_GuDp",
        "outputId": "e033b3b0-d183-4166-e216-a0fd8c444922"
      },
      "outputs": [
        {
          "name": "stdout",
          "output_type": "stream",
          "text": [
            "X shape: X is not defined\n",
            "y shape: y is not defined\n"
          ]
        }
      ],
      "source": [
        "print(\"X shape:\", X.shape if 'X' in locals() else \"X is not defined\")\n",
        "print(\"y shape:\", y.shape if 'y' in locals() else \"y is not defined\")\n"
      ]
    },
    {
      "cell_type": "code",
      "execution_count": null,
      "metadata": {
        "colab": {
          "base_uri": "https://localhost:8080/"
        },
        "id": "lV0mm3-yG5VL",
        "outputId": "e73eeb60-5e21-48cf-b6bb-69fc5c263434"
      },
      "outputs": [
        {
          "name": "stdout",
          "output_type": "stream",
          "text": [
            "df is not defined\n"
          ]
        }
      ],
      "source": [
        "print(\"df exists\" if 'df' in locals() else \"df is not defined\")\n"
      ]
    },
    {
      "cell_type": "code",
      "execution_count": null,
      "metadata": {
        "colab": {
          "base_uri": "https://localhost:8080/"
        },
        "id": "UkYX7hnoHGEe",
        "outputId": "ab87eb1e-1518-4cb4-83fd-63be8d3a531f"
      },
      "outputs": [
        {
          "name": "stdout",
          "output_type": "stream",
          "text": [
            "    Destination Port   Flow Duration   Total Fwd Packets  \\\n",
            "0              54865               3                   2   \n",
            "1              55054             109                   1   \n",
            "2              55055              52                   1   \n",
            "3              46236              34                   1   \n",
            "4              54863               3                   2   \n",
            "\n",
            "    Total Backward Packets  Total Length of Fwd Packets  \\\n",
            "0                        0                           12   \n",
            "1                        1                            6   \n",
            "2                        1                            6   \n",
            "3                        1                            6   \n",
            "4                        0                           12   \n",
            "\n",
            "    Total Length of Bwd Packets   Fwd Packet Length Max  \\\n",
            "0                             0                       6   \n",
            "1                             6                       6   \n",
            "2                             6                       6   \n",
            "3                             6                       6   \n",
            "4                             0                       6   \n",
            "\n",
            "    Fwd Packet Length Min   Fwd Packet Length Mean   Fwd Packet Length Std  \\\n",
            "0                       6                      6.0                     0.0   \n",
            "1                       6                      6.0                     0.0   \n",
            "2                       6                      6.0                     0.0   \n",
            "3                       6                      6.0                     0.0   \n",
            "4                       6                      6.0                     0.0   \n",
            "\n",
            "   ...   min_seg_size_forward  Active Mean   Active Std   Active Max  \\\n",
            "0  ...                     20          0.0          0.0            0   \n",
            "1  ...                     20          0.0          0.0            0   \n",
            "2  ...                     20          0.0          0.0            0   \n",
            "3  ...                     20          0.0          0.0            0   \n",
            "4  ...                     20          0.0          0.0            0   \n",
            "\n",
            "    Active Min  Idle Mean   Idle Std   Idle Max   Idle Min   Label  \n",
            "0            0        0.0        0.0          0          0  BENIGN  \n",
            "1            0        0.0        0.0          0          0  BENIGN  \n",
            "2            0        0.0        0.0          0          0  BENIGN  \n",
            "3            0        0.0        0.0          0          0  BENIGN  \n",
            "4            0        0.0        0.0          0          0  BENIGN  \n",
            "\n",
            "[5 rows x 79 columns]\n"
          ]
        }
      ],
      "source": [
        "import pandas as pd\n",
        "\n",
        "# Load the dataset (Update 'your_file.csv' to your actual file)\n",
        "df = pd.read_csv('CICIDS2017.csv')\n",
        "\n",
        "# Print first few rows to confirm loading\n",
        "print(df.head())\n"
      ]
    },
    {
      "cell_type": "code",
      "execution_count": null,
      "metadata": {
        "colab": {
          "base_uri": "https://localhost:8080/"
        },
        "id": "iVjIHlS3HRIp",
        "outputId": "6cebad67-2040-4d87-e296-868c6e5cd9f6"
      },
      "outputs": [
        {
          "name": "stdout",
          "output_type": "stream",
          "text": [
            "X shape: (225745, 78)\n",
            "y shape: (225745,)\n"
          ]
        }
      ],
      "source": [
        "# Ensure correct column names\n",
        "features = df.drop(columns=[' Label'])  # Adjust based on actual column name\n",
        "labels = df[' Label']\n",
        "\n",
        "# Convert to numpy arrays\n",
        "X = features.values\n",
        "y = labels.values\n",
        "\n",
        "print(\"X shape:\", X.shape)\n",
        "print(\"y shape:\", y.shape)\n"
      ]
    },
    {
      "cell_type": "code",
      "execution_count": null,
      "metadata": {
        "colab": {
          "base_uri": "https://localhost:8080/"
        },
        "id": "RWunAh-aHUDP",
        "outputId": "cba05789-ed14-49d2-9e35-5ffb4980de1f"
      },
      "outputs": [
        {
          "name": "stdout",
          "output_type": "stream",
          "text": [
            "Original X shape: (225741, 78)\n",
            "Original y shape: (225745,)\n",
            "Cleaned X shape: (225741, 78)\n",
            "Cleaned y shape: (225741,)\n"
          ]
        }
      ],
      "source": [
        "# Check original shapes\n",
        "print(\"Original X shape:\", X.shape)\n",
        "print(\"Original y shape:\", y.shape)\n",
        "\n",
        "# Find the minimum length\n",
        "min_length = min(len(X), len(y))\n",
        "\n",
        "# Truncate both to the same length\n",
        "X = X[:min_length]\n",
        "y = y[:min_length]\n",
        "\n",
        "# Convert X and y into a DataFrame (if not already)\n",
        "df_combined = pd.DataFrame(X)\n",
        "df_combined['Label'] = y  # Add labels to ensure sync\n",
        "\n",
        "# Remove rows with NaN from BOTH X and y together\n",
        "df_combined.dropna(inplace=True)\n",
        "\n",
        "# Separate back into X and y\n",
        "X = df_combined.drop(columns=['Label']).values  # Convert to NumPy\n",
        "y = df_combined['Label'].values  # Convert to NumPy\n",
        "\n",
        "# Check final shapes\n",
        "print(\"Cleaned X shape:\", X.shape)\n",
        "print(\"Cleaned y shape:\", y.shape)\n"
      ]
    },
    {
      "cell_type": "code",
      "execution_count": null,
      "metadata": {
        "colab": {
          "base_uri": "https://localhost:8080/"
        },
        "id": "-plQ0tl7H_nO",
        "outputId": "70e7f98f-b813-4197-ec24-2a63ccc64097"
      },
      "outputs": [
        {
          "name": "stdout",
          "output_type": "stream",
          "text": [
            "Contains inf: False\n",
            "Contains NaN: False\n"
          ]
        }
      ],
      "source": [
        "import numpy as np\n",
        "\n",
        "# Replace infinite values with the maximum finite value in the column\n",
        "X = np.nan_to_num(X, nan=0.0, posinf=np.nanmax(X[np.isfinite(X)]), neginf=np.nanmin(X[np.isfinite(X)]))\n",
        "\n",
        "# Verify that no infinities remain\n",
        "print(\"Contains inf:\", np.isinf(X).any())\n",
        "print(\"Contains NaN:\", np.isnan(X).any())\n"
      ]
    },
    {
      "cell_type": "code",
      "execution_count": null,
      "metadata": {
        "colab": {
          "base_uri": "https://localhost:8080/"
        },
        "id": "emr4KJn9IB6O",
        "outputId": "1942c77e-fc90-4030-ad78-68d13ca9a6cc"
      },
      "outputs": [
        {
          "name": "stdout",
          "output_type": "stream",
          "text": [
            "Resampled X shape: (256137, 78)\n",
            "Resampled y shape: (256137,)\n"
          ]
        }
      ],
      "source": [
        "from imblearn.over_sampling import ADASYN\n",
        "\n",
        "adasyn = ADASYN(random_state=42)\n",
        "X_resampled, y_resampled = adasyn.fit_resample(X, y)\n",
        "\n",
        "print(\"Resampled X shape:\", X_resampled.shape)\n",
        "print(\"Resampled y shape:\", y_resampled.shape)\n"
      ]
    },
    {
      "cell_type": "code",
      "execution_count": null,
      "metadata": {
        "colab": {
          "base_uri": "https://localhost:8080/"
        },
        "id": "ZEBt81WcJkJT",
        "outputId": "f8f9ba09-0128-46d9-917d-f92b26f4fb73"
      },
      "outputs": [
        {
          "name": "stdout",
          "output_type": "stream",
          "text": [
            "Train size: (204909, 78)\n",
            "Test size: (51228, 78)\n"
          ]
        }
      ],
      "source": [
        "from sklearn.model_selection import train_test_split\n",
        "\n",
        "# Split into train (80%) and test (20%)\n",
        "X_train, X_test, y_train, y_test = train_test_split(X_resampled, y_resampled, test_size=0.2, random_state=42)\n",
        "\n",
        "print(\"Train size:\", X_train.shape)\n",
        "print(\"Test size:\", X_test.shape)\n"
      ]
    },
    {
      "cell_type": "code",
      "execution_count": null,
      "metadata": {
        "colab": {
          "base_uri": "https://localhost:8080/"
        },
        "id": "5F83nzA8Jpal",
        "outputId": "1f15a246-bc05-4cbe-9505-38d972082b63"
      },
      "outputs": [
        {
          "name": "stdout",
          "output_type": "stream",
          "text": [
            "Cross-Validation Scores: [0.99787712 0.99814553 0.99814553 0.99782831 0.99782826]\n",
            "Mean Accuracy: 0.9979649496279432\n"
          ]
        }
      ],
      "source": [
        "from sklearn.model_selection import cross_val_score\n",
        "from sklearn.ensemble import RandomForestClassifier  # (Or your preferred model)\n",
        "\n",
        "# Define the model\n",
        "model = RandomForestClassifier(random_state=42)\n",
        "\n",
        "# Perform 5-fold cross-validation\n",
        "cv_scores = cross_val_score(model, X_train, y_train, cv=5, scoring='accuracy')\n",
        "\n",
        "print(\"Cross-Validation Scores:\", cv_scores)\n",
        "print(\"Mean Accuracy:\", cv_scores.mean())\n"
      ]
    },
    {
      "cell_type": "code",
      "execution_count": null,
      "metadata": {
        "colab": {
          "base_uri": "https://localhost:8080/"
        },
        "id": "k_ZYjkLzKxvA",
        "outputId": "2bdfe533-a698-4c0b-d485-83fc18134a87"
      },
      "outputs": [
        {
          "name": "stdout",
          "output_type": "stream",
          "text": [
            "Test Accuracy: 0.9980479425314281\n"
          ]
        }
      ],
      "source": [
        "# Train on full training data\n",
        "model.fit(X_train, y_train)\n",
        "\n",
        "# Evaluate on the test set\n",
        "test_accuracy = model.score(X_test, y_test)\n",
        "print(\"Test Accuracy:\", test_accuracy)\n"
      ]
    },
    {
      "cell_type": "code",
      "execution_count": null,
      "metadata": {
        "colab": {
          "base_uri": "https://localhost:8080/"
        },
        "id": "H1Ds3S7dLlQx",
        "outputId": "75e4252c-7dfa-4c2b-9c9f-ccc2962d8295"
      },
      "outputs": [
        {
          "name": "stdout",
          "output_type": "stream",
          "text": [
            "Train Accuracy: 0.9999951197848801\n"
          ]
        }
      ],
      "source": [
        "train_accuracy = model.score(X_train, y_train)\n",
        "print(\"Train Accuracy:\", train_accuracy)\n"
      ]
    },
    {
      "cell_type": "code",
      "execution_count": null,
      "metadata": {
        "colab": {
          "base_uri": "https://localhost:8080/",
          "height": 564
        },
        "id": "aK0jez7WLodk",
        "outputId": "94fa0355-0ab0-460b-c556-3a1f5f7159d7"
      },
      "outputs": [
        {
          "data": {
            "image/png": "[encoded data removed]",
            "text/plain": [
              "<Figure size 1000x600 with 1 Axes>"
            ]
          },
          "metadata": {},
          "output_type": "display_data"
        }
      ],
      "source": [
        "import pandas as pd\n",
        "import matplotlib.pyplot as plt\n",
        "\n",
        "# Ensure you have the column names from your original DataFrame\n",
        "feature_names = df.drop(columns=[' Label']).columns  # Use correct label column name\n",
        "\n",
        "feature_importance = model.feature_importances_\n",
        "\n",
        "# Create a DataFrame and sort by importance\n",
        "feat_imp_df = pd.DataFrame({'Feature': feature_names, 'Importance': feature_importance})\n",
        "feat_imp_df = feat_imp_df.sort_values(by='Importance', ascending=False)\n",
        "\n",
        "# Plot the top 10 most important features\n",
        "plt.figure(figsize=(10, 6))\n",
        "plt.barh(feat_imp_df['Feature'][:10], feat_imp_df['Importance'][:10])\n",
        "plt.xlabel(\"Feature Importance\")\n",
        "plt.ylabel(\"Feature Name\")\n",
        "plt.title(\"Top 10 Important Features\")\n",
        "plt.gca().invert_yaxis()\n",
        "plt.show()\n"
      ]
    },
    {
      "cell_type": "code",
      "execution_count": null,
      "metadata": {
        "colab": {
          "base_uri": "https://localhost:8080/"
        },
        "id": "xpM1VAAcMOrq",
        "outputId": "858c3c39-e93c-4a41-c9dd-748a47b9de65"
      },
      "outputs": [
        {
          "name": "stdout",
          "output_type": "stream",
          "text": [
            "Model saved successfully!\n"
          ]
        }
      ],
      "source": [
        "import joblib\n",
        "\n",
        "joblib.dump(model, \"trained_model.pkl\")\n",
        "print(\"Model saved successfully!\")\n"
      ]
    },
    {
      "cell_type": "code",
      "execution_count": null,
      "metadata": {
        "colab": {
          "base_uri": "https://localhost:8080/",
          "height": 562
        },
        "id": "dmy3Gqs9Oer7",
        "outputId": "0a407d7b-4dda-47f3-f483-929082c3f495"
      },
      "outputs": [
        {
          "data": {
            "image/png": "[encoded data removed]",
            "text/plain": [
              "<Figure size 1200x600 with 1 Axes>"
            ]
          },
          "metadata": {},
          "output_type": "display_data"
        }
      ],
      "source": [
        "import pandas as pd\n",
        "import matplotlib.pyplot as plt\n",
        "\n",
        "# Convert X_train to DataFrame (if it is a NumPy array)\n",
        "X_train_df = pd.DataFrame(X_train, columns=feature_names)  # Ensure feature_names are correctly assigned\n",
        "\n",
        "# Extract feature importance\n",
        "feature_importance = model.feature_importances_\n",
        "\n",
        "# Create DataFrame for visualization\n",
        "importance_df = pd.DataFrame({'Feature': X_train_df.columns, 'Importance': feature_importance})\n",
        "importance_df = importance_df.sort_values(by='Importance', ascending=False)\n",
        "\n",
        "# Plot feature importance\n",
        "plt.figure(figsize=(12, 6))\n",
        "plt.barh(importance_df['Feature'], importance_df['Importance'])\n",
        "plt.xlabel('Importance Score')\n",
        "plt.ylabel('Features')\n",
        "plt.title('Feature Importance')\n",
        "plt.gca().invert_yaxis()\n",
        "plt.show()\n"
      ]
    },
    {
      "cell_type": "code",
      "execution_count": null,
      "metadata": {
        "colab": {
          "base_uri": "https://localhost:8080/",
          "height": 472
        },
        "id": "NZO_G_0-On2D",
        "outputId": "8bbc3e99-b306-4532-b6b9-b98e20b1a5fb"
      },
      "outputs": [
        {
          "data": {
            "image/png": "[encoded data removed]",
            "text/plain": [
              "<Figure size 640x480 with 2 Axes>"
            ]
          },
          "metadata": {},
          "output_type": "display_data"
        }
      ],
      "source": [
        "from sklearn.metrics import confusion_matrix, ConfusionMatrixDisplay\n",
        "\n",
        "# Get predictions on the test set\n",
        "y_pred = model.predict(X_test)\n",
        "\n",
        "# Compute confusion matrix\n",
        "cm = confusion_matrix(y_test, y_pred)\n",
        "\n",
        "# Plot confusion matrix\n",
        "disp = ConfusionMatrixDisplay(confusion_matrix=cm, display_labels=model.classes_)\n",
        "disp.plot(cmap=plt.cm.Blues)\n",
        "plt.title(\"Confusion Matrix\")\n",
        "plt.show()\n"
      ]
    },
    {
      "cell_type": "code",
      "execution_count": null,
      "metadata": {
        "colab": {
          "base_uri": "https://localhost:8080/",
          "height": 564
        },
        "id": "90V_YEhDOvVq",
        "outputId": "41c3d364-f174-4b11-8088-2cf0d3ac53d1"
      },
      "outputs": [
        {
          "data": {
            "image/png": "[encoded data removed]",
            "text/plain": [
              "<Figure size 800x600 with 1 Axes>"
            ]
          },
          "metadata": {},
          "output_type": "display_data"
        }
      ],
      "source": [
        "from sklearn.preprocessing import LabelBinarizer\n",
        "from sklearn.metrics import roc_curve, auc\n",
        "\n",
        "# Encode labels (BENIGN -> 0, DDoS -> 1)\n",
        "lb = LabelBinarizer()\n",
        "y_test_binary = lb.fit_transform(y_test).ravel()  # Convert to 1D array if needed\n",
        "\n",
        "# Get prediction probabilities\n",
        "y_probs = model.predict_proba(X_test)[:, 1]  # Probabilities for positive class (DDoS)\n",
        "\n",
        "# Compute ROC curve and AUC score\n",
        "fpr, tpr, _ = roc_curve(y_test_binary, y_probs)\n",
        "roc_auc = auc(fpr, tpr)\n",
        "\n",
        "# Plot ROC curve\n",
        "import matplotlib.pyplot as plt\n",
        "plt.figure(figsize=(8, 6))\n",
        "plt.plot(fpr, tpr, color='blue', lw=2, label=f'ROC curve (AUC = {roc_auc:.2f})')\n",
        "plt.plot([0, 1], [0, 1], color='gray', linestyle='--')  # Reference line\n",
        "plt.xlim([0.0, 1.0])\n",
        "plt.ylim([0.0, 1.05])\n",
        "plt.xlabel('False Positive Rate')\n",
        "plt.ylabel('True Positive Rate')\n",
        "plt.title('Receiver Operating Characteristic (ROC) Curve')\n",
        "plt.legend(loc='lower right')\n",
        "plt.show()\n"
      ]
    },
    {
      "cell_type": "code",
      "execution_count": null,
      "metadata": {
        "id": "IKHrouloPJvM"
      },
      "outputs": [],
      "source": [
        "fpr, tpr, _ = roc_curve(y_test, y_probs, pos_label='DDoS')\n"
      ]
    },
    {
      "cell_type": "code",
      "execution_count": null,
      "metadata": {
        "colab": {
          "background_save": true
        },
        "id": "-SmvIwLRg_XM",
        "outputId": "9a9ba42b-1123-48fe-f6f1-a0f26622d888"
      },
      "outputs": [
        {
          "data": {
            "image/png": "[encoded data removed]",
            "text/plain": [
              "<Figure size 1150x660 with 2 Axes>"
            ]
          },
          "metadata": {},
          "output_type": "display_data"
        }
      ],
      "source": [
        "import shap\n",
        "import joblib\n",
        "from sklearn.ensemble import RandomForestClassifier\n",
        "import pandas as pd\n",
        "import numpy as np #Import numpy\n",
        "\n",
        "# Load the saved model\n",
        "model = joblib.load(\"trained_model.pkl\")\n",
        "\n",
        "# Load the saved dataframe with the proper column names\n",
        "df = pd.read_csv('CICIDS2017.csv')\n",
        "feature_names = df.drop(columns=[' Label']).columns\n",
        "\n",
        "# Load the data needed for X_test and instantiate as a dataframe\n",
        "X = df.drop(columns=[' Label']).values\n",
        "y = df[' Label'].values\n",
        "\n",
        "min_length = min(len(X), len(y))\n",
        "\n",
        "X = X[:min_length]\n",
        "y = y[:min_length]\n",
        "\n",
        "df_combined = pd.DataFrame(X)\n",
        "df_combined['Label'] = y\n",
        "df_combined.dropna(inplace=True)\n",
        "X = df_combined.drop(columns=['Label']).values  # Convert to NumPy\n",
        "y = df_combined['Label'].values\n",
        "X = np.nan_to_num(X, nan=0.0, posinf=np.nanmax(X[np.isfinite(X)]), neginf=np.nanmin(X[np.isfinite(X)]))\n",
        "\n",
        "from imblearn.over_sampling import ADASYN\n",
        "adasyn = ADASYN(random_state=42)\n",
        "X_resampled, y_resampled = adasyn.fit_resample(X, y)\n",
        "\n",
        "from sklearn.model_selection import train_test_split\n",
        "X_train, X_test, y_train, y_test = train_test_split(X_resampled, y_resampled, test_size=0.2, random_state=42)\n",
        "\n",
        "\n",
        "explainer = shap.TreeExplainer(model)  # Use appropriate explainer for your model\n",
        "shap_values = explainer.shap_values(X_test)\n",
        "\n",
        "# Summary Plot\n",
        "shap.summary_plot(shap_values, X_test, feature_names=feature_names)"
      ]
    }
  ],
  "metadata": {
    "colab": {
      "provenance": [],
      "authorship_tag": "ABX9TyNzz8OuxxagYk1nphSmcWoX",
      "include_colab_link": true
    },
    "kernelspec": {
      "display_name": "Python 3",
      "name": "python3"
    },
    "language_info": {
      "name": "python"
    }
  },
  "nbformat": 4,
  "nbformat_minor": 0
}